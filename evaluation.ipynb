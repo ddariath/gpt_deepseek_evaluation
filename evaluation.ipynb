{
  "nbformat": 4,
  "nbformat_minor": 0,
  "metadata": {
    "colab": {
      "provenance": []
    },
    "kernelspec": {
      "name": "python3",
      "display_name": "Python 3"
    },
    "language_info": {
      "name": "python"
    }
  },
  "cells": [
    {
      "cell_type": "code",
      "execution_count": 1,
      "metadata": {
        "id": "jjXd3YoUUcy2"
      },
      "outputs": [],
      "source": [
        "from sklearn.metrics import f1_score, accuracy_score\n",
        "import pandas as pd\n",
        "import re"
      ]
    },
    {
      "cell_type": "markdown",
      "source": [
        "##Binary classification"
      ],
      "metadata": {
        "id": "izSd66VUU2p0"
      }
    },
    {
      "cell_type": "code",
      "source": [
        "ev_df = pd.read_csv('deepseek_evaluation.csv')"
      ],
      "metadata": {
        "id": "YIMj3L-9b5bI"
      },
      "execution_count": 37,
      "outputs": []
    },
    {
      "cell_type": "code",
      "source": [
        "def binary_word_label(file, label, not_label, deepseek_column):\n",
        "  if 'csv' in file:\n",
        "    df = pd.read_csv(file)\n",
        "  elif 'xlsx' in file:\n",
        "    df = pd.read_excel(file)\n",
        "\n",
        "\n",
        "  df[deepseek_column] = df[deepseek_column].astype(str)\n",
        "  df['deepseek_final'] = 'None'\n",
        "\n",
        "  for index, row in df.iterrows():\n",
        "    if not_label in row[deepseek_column]:\n",
        "      df.loc[index, 'deepseek_final'] = not_label\n",
        "    elif label in row[deepseek_column]:\n",
        "      df.loc[index, 'deepseek_final'] = label\n",
        "\n",
        "  df_filtered = df[df.deepseek_final != 'None']\n",
        "\n",
        "  gold = df_filtered[\"annotation\"].tolist()\n",
        "  system = df_filtered[\"deepseek_final\"].tolist()\n",
        "\n",
        "  f1_macro = f1_score(gold, system, average='macro')\n",
        "  f1_micro = f1_score(gold, system, average='micro')\n",
        "  accuracy = accuracy_score(gold, system)\n",
        "\n",
        "  print(f'Accuracy: {accuracy}')\n",
        "  print(f'F1-macro: {f1_macro}')\n",
        "  print(f'F1-micro: {f1_micro}')\n",
        "  print(f'None: {len(df) - len(df_filtered)}')\n",
        "\n",
        "  filename = file.split('.')[0]\n",
        "  try:\n",
        "    df.to_excel(f'{filename}_final.xlsx', index=False)\n",
        "  except:\n",
        "    df.to_csv(f'{filename}_final.csv', index=False)\n",
        "\n",
        "  ev_df = pd.read_csv('deepseek_evaluation.csv')\n",
        "  task = file.replace('.csv', '').replace('.xlsx', '')\n",
        "  if task not in ev_df['task'].values:\n",
        "    ev_df = pd.concat([\n",
        "        ev_df,\n",
        "        pd.DataFrame([{'task': task, 'accuracy': 0, 'f1_macro': 0}])\n",
        "    ], ignore_index=True)\n",
        "\n",
        "  ev_df.loc[ev_df['task'] == task, ['accuracy', 'f1_macro']] = [\n",
        "    round(accuracy * 100, 2),\n",
        "    round(f1_macro * 100, 2)\n",
        "  ]\n",
        "  ev_df.to_csv('deepseek_evaluation.csv', index=False)"
      ],
      "metadata": {
        "id": "Kt6UkwEwU1lW"
      },
      "execution_count": null,
      "outputs": []
    },
    {
      "cell_type": "markdown",
      "source": [
        "##1.Aggression"
      ],
      "metadata": {
        "id": "N2HmwbCNVco0"
      }
    },
    {
      "cell_type": "code",
      "source": [
        "binary_word_label('aggression.xlsx', 'aggressive', 'non-aggressive', 'deepseek')"
      ],
      "metadata": {
        "colab": {
          "base_uri": "https://localhost:8080/"
        },
        "id": "8E5NfQIYVfZJ",
        "outputId": "9b4e91f0-5098-4bc3-8da7-0536919be5ab"
      },
      "execution_count": null,
      "outputs": [
        {
          "output_type": "stream",
          "name": "stdout",
          "text": [
            "Accuracy: 0.5757271815446339\n",
            "F1-macro: 0.5290095185126864\n",
            "F1-micro: 0.5757271815446339\n",
            "None: 3\n"
          ]
        }
      ]
    },
    {
      "cell_type": "markdown",
      "source": [
        "## 2.AggressionPer"
      ],
      "metadata": {
        "id": "lbExyME1DDjU"
      }
    },
    {
      "cell_type": "code",
      "source": [
        "binary_word_label('aggressionper.xlsx', 'aggressive', 'non-aggressive', 'deepseek')"
      ],
      "metadata": {
        "colab": {
          "base_uri": "https://localhost:8080/"
        },
        "id": "gvcEZ9S4DHvi",
        "outputId": "ac31b32f-6aa3-4665-b271-505aee63a15f"
      },
      "execution_count": null,
      "outputs": [
        {
          "output_type": "stream",
          "name": "stdout",
          "text": [
            "Accuracy: 0.6863727454909819\n",
            "F1-macro: 0.6460090544912657\n",
            "F1-micro: 0.6863727454909819\n",
            "None: 2\n"
          ]
        }
      ]
    },
    {
      "cell_type": "markdown",
      "source": [
        "##3.Sarcasm"
      ],
      "metadata": {
        "id": "sfp7ZLUID7dg"
      }
    },
    {
      "cell_type": "code",
      "source": [
        "binary_word_label('sarcasm.xlsx', 'funny', 'not funny', 'deepseek')"
      ],
      "metadata": {
        "colab": {
          "base_uri": "https://localhost:8080/"
        },
        "id": "-ZszTbtAD8AW",
        "outputId": "a993bbf0-be45-476b-b315-9725a6248226"
      },
      "execution_count": null,
      "outputs": [
        {
          "output_type": "stream",
          "name": "stdout",
          "text": [
            "Accuracy: 0.4894894894894895\n",
            "F1-macro: 0.48948488565038595\n",
            "F1-micro: 0.4894894894894895\n",
            "None: 1\n"
          ]
        }
      ]
    },
    {
      "cell_type": "markdown",
      "source": [
        "##4.ColBERT"
      ],
      "metadata": {
        "id": "j9RPzJEiEdhR"
      }
    },
    {
      "cell_type": "code",
      "source": [
        "binary_word_label('colbert.xlsx', 'funny', 'not funny', 'deepseek')"
      ],
      "metadata": {
        "colab": {
          "base_uri": "https://localhost:8080/"
        },
        "id": "Ta89sQziEfr9",
        "outputId": "e233bc39-c195-449b-9265-f26600a62a75"
      },
      "execution_count": null,
      "outputs": [
        {
          "output_type": "stream",
          "name": "stdout",
          "text": [
            "Accuracy: 0.845\n",
            "F1-macro: 0.8446854881134297\n",
            "F1-micro: 0.845\n",
            "None: 0\n"
          ]
        }
      ]
    },
    {
      "cell_type": "markdown",
      "source": [
        "##5.Spam"
      ],
      "metadata": {
        "id": "R2nWOZ9dFg3X"
      }
    },
    {
      "cell_type": "code",
      "source": [
        "binary_word_label('spam.xlsx', 'spam', 'not spam', 'deepseek')"
      ],
      "metadata": {
        "colab": {
          "base_uri": "https://localhost:8080/"
        },
        "id": "CScJVXPwFijg",
        "outputId": "1304b97f-333d-423c-ded1-ad98815638cc"
      },
      "execution_count": null,
      "outputs": [
        {
          "output_type": "stream",
          "name": "stdout",
          "text": [
            "Accuracy: 0.7336322869955157\n",
            "F1-macro: 0.6566352944348073\n",
            "F1-micro: 0.7336322869955157\n",
            "None: 0\n"
          ]
        }
      ]
    },
    {
      "cell_type": "markdown",
      "source": [
        "##6.TextEntail"
      ],
      "metadata": {
        "id": "WsQxx7L6GUGD"
      }
    },
    {
      "cell_type": "code",
      "source": [
        "df = pd.read_excel('textentail2.xlsx')"
      ],
      "metadata": {
        "id": "B_2kbLTaGXIC"
      },
      "execution_count": 37,
      "outputs": []
    },
    {
      "cell_type": "code",
      "source": [
        "df = df[df['split'] == 'dev']"
      ],
      "metadata": {
        "id": "AiCR_AHZLPdM"
      },
      "execution_count": 38,
      "outputs": []
    },
    {
      "cell_type": "code",
      "source": [
        "df['deepseek_final'] = \"None\"\n",
        "for index, row in df.iterrows():\n",
        "    if 'not_entailment' in row['deepseek']:\n",
        "      df.loc[index, 'deepseek_final'] = 'not_entailment'\n",
        "    elif 'entailment' in row['deepseek'] or 'entailemtent' in row['deepseek']:\n",
        "      df.loc[index, 'deepseek_final'] = 'entailment'"
      ],
      "metadata": {
        "id": "xQfBD-vVLc5S"
      },
      "execution_count": 39,
      "outputs": []
    },
    {
      "cell_type": "code",
      "source": [
        "LABEL_MAP = {\n",
        "    \"entailment\": 1,\n",
        "    \"not_entailment\": 0,\n",
        "}"
      ],
      "metadata": {
        "id": "TeQkcASkNVSc"
      },
      "execution_count": 47,
      "outputs": []
    },
    {
      "cell_type": "code",
      "source": [
        "gold_labels = [LABEL_MAP[val.lower()] for val in df.label.values]\n",
        "deepseek_preds = [LABEL_MAP[val.lower()] for val in df.deepseek_final.values]"
      ],
      "metadata": {
        "id": "6oGC6WcDLkQu"
      },
      "execution_count": 48,
      "outputs": []
    },
    {
      "cell_type": "code",
      "source": [
        "f1_macro = f1_score(gold_labels, deepseek_preds, average='macro')\n",
        "f1_micro = f1_score(gold_labels, deepseek_preds, average='micro')\n",
        "accuracy = accuracy_score(gold_labels, deepseek_preds)\n",
        "print(f'Accuracy: {accuracy}')\n",
        "print(f'F1-macro: {f1_macro}')\n",
        "print(f'F1-micro: {f1_micro}')"
      ],
      "metadata": {
        "colab": {
          "base_uri": "https://localhost:8080/"
        },
        "id": "a-a_fW_fLr27",
        "outputId": "448f6378-2a4d-4637-a58e-ef51266cd5dd"
      },
      "execution_count": 55,
      "outputs": [
        {
          "output_type": "stream",
          "name": "stdout",
          "text": [
            "Accuracy: 0.851985559566787\n",
            "F1-macro: 0.8470004984574762\n",
            "F1-micro: 0.851985559566787\n"
          ]
        }
      ]
    },
    {
      "cell_type": "code",
      "source": [
        "ev_df = pd.read_csv('deepseek_evaluation.csv')\n",
        "\n",
        "ev_df.loc[ev_df['task'] == 'textentail', ['accuracy', 'f1_macro']] = [\n",
        "  round(accuracy * 100, 2),\n",
        "  round(f1_macro * 100, 2)\n",
        "]\n",
        "ev_df.to_csv('deepseek_evaluation.csv', index=False)"
      ],
      "metadata": {
        "id": "4Cjs4yNgL5K-"
      },
      "execution_count": 44,
      "outputs": []
    },
    {
      "cell_type": "markdown",
      "source": [
        "TextEntail GPT4\n",
        "\n",
        "\n"
      ],
      "metadata": {
        "id": "ZZZr1NZaNZGM"
      }
    },
    {
      "cell_type": "code",
      "source": [
        "gold_labels = [LABEL_MAP[val.lower()] for val in df.label.values]\n",
        "gpt4_preds = [LABEL_MAP[val.lower()] for val in df.gpt4.values]"
      ],
      "metadata": {
        "id": "s6HyCyixNTGX"
      },
      "execution_count": 50,
      "outputs": []
    },
    {
      "cell_type": "code",
      "source": [
        "f1_macro = f1_score(gold_labels, gpt4_preds, average='macro')\n",
        "f1_micro = f1_score(gold_labels, gpt4_preds, average='micro')\n",
        "accuracy = accuracy_score(gold_labels, gpt4_preds)\n",
        "print(f'Accuracy: {accuracy}')\n",
        "print(f'F1-macro: {f1_macro}')\n",
        "print(f'F1-micro: {f1_micro}')"
      ],
      "metadata": {
        "colab": {
          "base_uri": "https://localhost:8080/"
        },
        "id": "3Jl3GAYoNwMm",
        "outputId": "a93baa59-e093-422c-b702-e0b17a7c3403"
      },
      "execution_count": 56,
      "outputs": [
        {
          "output_type": "stream",
          "name": "stdout",
          "text": [
            "Accuracy: 0.9061371841155235\n",
            "F1-macro: 0.9049466793369232\n",
            "F1-micro: 0.9061371841155235\n"
          ]
        }
      ]
    },
    {
      "cell_type": "code",
      "source": [
        "ev_df = pd.read_csv('deepseek_evaluation.csv')\n",
        "\n",
        "ev_df.loc[ev_df['task'] == 'textentail', ['accuracy_gpt4', 'f1_macro_gpt4']] = [\n",
        "  round(accuracy * 100, 2),\n",
        "  round(f1_macro * 100, 2)\n",
        "]\n",
        "ev_df.to_csv('deepseek_evaluation.csv', index=False)"
      ],
      "metadata": {
        "id": "pEQsUkB9ODrv"
      },
      "execution_count": 57,
      "outputs": []
    },
    {
      "cell_type": "markdown",
      "source": [
        "##7.Cola"
      ],
      "metadata": {
        "id": "a1ibmUfAO30f"
      }
    },
    {
      "cell_type": "code",
      "source": [
        "cola = pd.read_excel('cola.xlsx')"
      ],
      "metadata": {
        "id": "TQG-JxxFQBFc"
      },
      "execution_count": 66,
      "outputs": []
    },
    {
      "cell_type": "code",
      "source": [
        "cola_filtered = cola[cola.deepseek.isin([0, 1])]"
      ],
      "metadata": {
        "id": "gbNOqU-aQPxL"
      },
      "execution_count": 67,
      "outputs": []
    },
    {
      "cell_type": "code",
      "source": [
        "gold_labels = cola_filtered['annotation'].tolist()\n",
        "deepseek_preds = cola_filtered['deepseek'].tolist()"
      ],
      "metadata": {
        "id": "VtbUIpBUQSTa"
      },
      "execution_count": 69,
      "outputs": []
    },
    {
      "cell_type": "code",
      "source": [
        "f1_macro = f1_score(gold_labels, deepseek_preds, average='macro')\n",
        "f1_micro = f1_score(gold_labels, deepseek_preds, average='micro')\n",
        "accuracy = accuracy_score(gold_labels, deepseek_preds)\n",
        "print(f'Accuracy: {accuracy}')\n",
        "print(f'F1-macro: {f1_macro}')\n",
        "print(f'F1-micro: {f1_micro}')"
      ],
      "metadata": {
        "colab": {
          "base_uri": "https://localhost:8080/"
        },
        "id": "QPUc_h8tQYRP",
        "outputId": "2797e618-f3de-4709-da90-1e341a783759"
      },
      "execution_count": 70,
      "outputs": [
        {
          "output_type": "stream",
          "name": "stdout",
          "text": [
            "Accuracy: 0.8559077809798271\n",
            "F1-macro: 0.8292994883903975\n",
            "F1-micro: 0.8559077809798271\n"
          ]
        }
      ]
    },
    {
      "cell_type": "code",
      "source": [
        "ev_df.loc[ev_df['task'] == 'cola', ['accuracy', 'f1_macro']] = [\n",
        "  round(accuracy * 100, 2),\n",
        "  round(f1_macro * 100, 2)\n",
        "]\n",
        "ev_df.to_csv('deepseek_evaluation.csv', index=False)"
      ],
      "metadata": {
        "id": "dlQzEM_WQq4q"
      },
      "execution_count": 71,
      "outputs": []
    },
    {
      "cell_type": "markdown",
      "source": [
        "##8.WSD"
      ],
      "metadata": {
        "id": "Utz1W0peRSA6"
      }
    },
    {
      "cell_type": "code",
      "source": [
        "df = pd.read_excel('wsd.xlsx')"
      ],
      "metadata": {
        "id": "ueO0wdszRUTn"
      },
      "execution_count": 98,
      "outputs": []
    },
    {
      "cell_type": "code",
      "source": [
        "df['deepseek'] = df['deepseek'].astype(str)\n",
        "df['deepseek_final'] = 'None'\n",
        "\n",
        "for index, row in df.iterrows():\n",
        "    if row['annotation'] in row['deepseek']:\n",
        "        df.loc[index, 'deepseek_final'] = row['annotation']\n",
        "    elif row['deepseek'].strip() != '':\n",
        "        df.loc[index, 'deepseek_final'] = 'wrong'\n",
        "\n",
        "gold_labels = df['annotation'].tolist()\n",
        "deepseek_preds = df['deepseek_final'].tolist()\n",
        "\n",
        "f1_macro = f1_score(gold_labels, deepseek_preds, average='macro')\n",
        "f1_micro = f1_score(gold_labels, deepseek_preds, average='micro')\n",
        "accuracy = accuracy_score(gold_labels, deepseek_preds)\n",
        "\n",
        "print(f'Accuracy: {accuracy}')\n",
        "print(f'F1-macro: {f1_macro}')\n",
        "print(f'F1-micro: {f1_micro}')\n",
        "\n"
      ],
      "metadata": {
        "colab": {
          "base_uri": "https://localhost:8080/"
        },
        "id": "1Rh9u4myR2EV",
        "outputId": "404b6d0f-7883-4290-818c-04b5c0351850"
      },
      "execution_count": 99,
      "outputs": [
        {
          "output_type": "stream",
          "name": "stdout",
          "text": [
            "Accuracy: 0.7836757203915621\n",
            "F1-macro: 0.772345014123017\n",
            "F1-micro: 0.7836757203915621\n"
          ]
        }
      ]
    },
    {
      "cell_type": "code",
      "source": [
        "ev_df.loc[ev_df['task'] == 'wsd', ['accuracy', 'f1_macro']] = [\n",
        "  round(accuracy * 100, 2),\n",
        "  round(f1_macro * 100, 2)\n",
        "]\n",
        "ev_df.to_csv('deepseek_evaluation.csv', index=False)"
      ],
      "metadata": {
        "id": "FtthdkEiSaWR"
      },
      "execution_count": 100,
      "outputs": []
    },
    {
      "cell_type": "markdown",
      "source": [
        "##9.ClarinEmo"
      ],
      "metadata": {
        "id": "AEVj-0fgSpyB"
      }
    },
    {
      "cell_type": "code",
      "source": [
        "import json\n",
        "import ast\n",
        "\n",
        "from torchmetrics import Accuracy, F1Score, Precision, Recall\n",
        "import pandas as pd\n",
        "import numpy as np\n",
        "import torch"
      ],
      "metadata": {
        "id": "w5D0x-qBSsK4"
      },
      "execution_count": 101,
      "outputs": []
    },
    {
      "cell_type": "code",
      "source": [
        "emotion_labels = ['radość', 'zaufanie', 'przeczuwanie', 'zdziwienie', 'strach', 'smutek', 'wstręt', 'gniew', 'pozytywny', 'negatywny', 'neutralny']\n",
        "\n",
        "num_labels = len(emotion_labels)"
      ],
      "metadata": {
        "id": "0wmo7Hn8Svtt"
      },
      "execution_count": 102,
      "outputs": []
    },
    {
      "cell_type": "code",
      "source": [
        "macro_prec = Precision(num_labels=num_labels, average=\"macro\", task='multilabel')\n",
        "macro_recall = Recall(num_labels=num_labels, average=\"macro\", task='multilabel')\n",
        "micro_prec = Precision(num_labels=num_labels, average=\"micro\", task='multilabel')\n",
        "micro_recall = Recall(num_labels=num_labels, average=\"micro\", task='multilabel')\n",
        "macro_f1 = F1Score(num_labels=num_labels, average='macro', task='multilabel')\n",
        "weighted_f1 = F1Score(num_labels=num_labels, average='weighted', task='multilabel')\n",
        "micro_f1 = F1Score(num_labels=num_labels, average='micro', task='multilabel')\n",
        "f1_scores = F1Score(num_labels=num_labels, average='none', task='multilabel')\n",
        "accuracy = Accuracy(num_labels=num_labels, task='multilabel')"
      ],
      "metadata": {
        "id": "tvt0L6IiThoi"
      },
      "execution_count": 103,
      "outputs": []
    },
    {
      "cell_type": "code",
      "source": [
        "df = pd.read_excel('clarinemo.xlsx')"
      ],
      "metadata": {
        "id": "ADx8KuczTlOu"
      },
      "execution_count": 104,
      "outputs": []
    },
    {
      "cell_type": "code",
      "source": [
        "def clean_json_cell(cell):\n",
        "    if isinstance(cell, str):\n",
        "        cleaned = re.sub(r'^```json\\s*|\\s*```$', '', cell.strip())\n",
        "        try:\n",
        "            return cleaned\n",
        "        except Exception as e:\n",
        "            print(f\"Ошибка при обработке строки: {cell}\\n{e}\")\n",
        "            return None\n",
        "    return cell\n",
        "\n",
        "\n",
        "df['deepseek'] = df['deepseek'].apply(clean_json_cell)"
      ],
      "metadata": {
        "id": "IooefoHqTtCv"
      },
      "execution_count": 105,
      "outputs": []
    },
    {
      "cell_type": "code",
      "source": [
        "def handle_output(x):\n",
        "    if isinstance(x, list):\n",
        "        return x\n",
        "    elif isinstance(x, dict):\n",
        "        annotations = set()\n",
        "        for element in x.values():\n",
        "            [annotations.add(e) for e in element]\n",
        "        return list(annotations)\n",
        "    assert(False)"
      ],
      "metadata": {
        "id": "5A8qsQBuTxga"
      },
      "execution_count": 106,
      "outputs": []
    },
    {
      "cell_type": "code",
      "source": [
        "y_true = []\n",
        "y_pred = []\n",
        "indexes = []\n",
        "for index, row in df.iterrows():\n",
        "    annotations = ast.literal_eval(row.annotation)\n",
        "    y_true_example = [[x in anno for x in emotion_labels] for anno in annotations]\n",
        "    chat_gpt =  ast.literal_eval(row.deepseek)\n",
        "    sentences = chat_gpt.keys()\n",
        "    sentences = sorted(sentences)\n",
        "    y_pred_example = [handle_output(chat_gpt[key]) for key in sentences]\n",
        "    y_pred_example = [[x in anno for x in emotion_labels] for anno in y_pred_example]\n",
        "    if len(y_true_example) != len(y_pred_example):\n",
        "        continue\n",
        "    [y_true.append(example) for example in y_true_example]\n",
        "    [y_pred.append(example) for example in y_pred_example]"
      ],
      "metadata": {
        "id": "563RHq-WT0sz"
      },
      "execution_count": 107,
      "outputs": []
    },
    {
      "cell_type": "code",
      "source": [
        "y_true = torch.Tensor(y_true)\n",
        "y_pred = torch.Tensor(y_pred)"
      ],
      "metadata": {
        "id": "OJSzXMrtT302"
      },
      "execution_count": 108,
      "outputs": []
    },
    {
      "cell_type": "code",
      "source": [
        "f1_names = [k.capitalize() + ' f1:' for k in emotion_labels]\n",
        "emotion_f1 = dict(zip(f1_names, f1_scores(y_pred, y_true)))"
      ],
      "metadata": {
        "id": "QdZ4L8TKT6Z7"
      },
      "execution_count": 109,
      "outputs": []
    },
    {
      "cell_type": "code",
      "source": [
        "acc = float(accuracy(y_pred, y_true) * 100)\n",
        "f1_macro_score = float(macro_f1(y_pred, y_true) * 100)\n",
        "f1_micro_score = float(micro_f1(y_pred, y_true) * 100)\n",
        "print(f'Accuracy: {acc}')\n",
        "print(f'F1-macro: {f1_macro_score}')\n",
        "print(f'F1-micro: {f1_micro_score}')"
      ],
      "metadata": {
        "colab": {
          "base_uri": "https://localhost:8080/"
        },
        "id": "59oxpV9JT-H9",
        "outputId": "56f043b2-7f05-4f59-f5bc-1e2ffb51991f"
      },
      "execution_count": 110,
      "outputs": [
        {
          "output_type": "stream",
          "name": "stdout",
          "text": [
            "Accuracy: 83.26692962646484\n",
            "F1-macro: 53.890533447265625\n",
            "F1-micro: 63.449363708496094\n"
          ]
        }
      ]
    },
    {
      "cell_type": "code",
      "source": [
        "ev_df.loc[ev_df['task'] == 'clarinemo', ['accuracy', 'f1_macro']] = [\n",
        "  round(acc, 2),\n",
        "  round(f1_macro_score, 2)\n",
        "]\n",
        "ev_df.to_csv('deepseek_evaluation.csv', index=False)"
      ],
      "metadata": {
        "id": "hWzn-2K8Vdy7"
      },
      "execution_count": 111,
      "outputs": []
    },
    {
      "cell_type": "markdown",
      "source": [
        "##10.GoEmo"
      ],
      "metadata": {
        "id": "XZ8n0SwX7LSr"
      }
    },
    {
      "cell_type": "code",
      "source": [
        "from ast import literal_eval\n",
        "import re\n",
        "from sklearn.preprocessing import MultiLabelBinarizer\n",
        "from sklearn.metrics import f1_score, accuracy_score"
      ],
      "metadata": {
        "id": "F5ojgZpV7Kn8"
      },
      "execution_count": 22,
      "outputs": []
    },
    {
      "cell_type": "code",
      "source": [
        "df = pd.read_excel('goemo.xlsx')"
      ],
      "metadata": {
        "id": "CYl4yr087pBA"
      },
      "execution_count": 23,
      "outputs": []
    },
    {
      "cell_type": "code",
      "source": [
        "unique_gold = set()\n",
        "for item in df[\"annotation\"].tolist():\n",
        "  for i in item.split(','):\n",
        "    unique_gold.add(i)"
      ],
      "metadata": {
        "id": "p0TC-1Xv8BZ8"
      },
      "execution_count": 24,
      "outputs": []
    },
    {
      "cell_type": "code",
      "source": [
        "unique_answers = set()\n",
        "for item in set(df[\"deepseek\"].tolist()):\n",
        "  try:\n",
        "    l = ast.literal_eval(item)\n",
        "    for i in l:\n",
        "      unique_answers.add(i)\n",
        "  except:\n",
        "    unique_answers.add(item)"
      ],
      "metadata": {
        "id": "Yebbso_18E70"
      },
      "execution_count": 25,
      "outputs": []
    },
    {
      "cell_type": "code",
      "source": [
        "classes = 'admiration, amusement, anger, annoyance, approval, caring, confusion, curiosity, desire, disappointment, disapproval, disgust, embarrassment, excitement, fear, gratitude, grief, joy, love, nervousness, optimism, pride, realization, relief, remorse, sadness, surprise, neutral'.split(', ')"
      ],
      "metadata": {
        "id": "U3_Ju-cG8Iga"
      },
      "execution_count": 26,
      "outputs": []
    },
    {
      "cell_type": "code",
      "source": [
        "df[\"deepseek_final\"] = \"None\""
      ],
      "metadata": {
        "id": "tIexKPN08Lhp"
      },
      "execution_count": 27,
      "outputs": []
    },
    {
      "cell_type": "code",
      "source": [
        "for idx, evaluation in enumerate(df[\"deepseek\"]):\n",
        "    try:\n",
        "      ast.literal_eval(evaluation)\n",
        "    except Exception:\n",
        "      try:\n",
        "        m = re.search(r'\\[.*?\\]', evaluation)\n",
        "        m = m.group()\n",
        "        m = m[1:-1].split(', ')\n",
        "        df.loc[idx, \"deepseek\"] = str(m)\n",
        "      except:\n",
        "        print(idx, evaluation)"
      ],
      "metadata": {
        "id": "OcHOS9ps8Pun"
      },
      "execution_count": 28,
      "outputs": []
    },
    {
      "cell_type": "code",
      "source": [
        "df.deepseek.tolist()"
      ],
      "metadata": {
        "collapsed": true,
        "colab": {
          "base_uri": "https://localhost:8080/"
        },
        "id": "0Plm-d2OvlLU",
        "outputId": "96344333-6c82-4605-f060-3a63d7843409"
      },
      "execution_count": 29,
      "outputs": [
        {
          "output_type": "execute_result",
          "data": {
            "text/plain": [
              "[\"['caring']\",\n",
              " '[\"confusion\"]',\n",
              " '[\"optimism\"]',\n",
              " \"['gratitude']\",\n",
              " '[\"amusement\"]',\n",
              " '[\"gratitude\"]',\n",
              " '[\"gratitude\"]',\n",
              " '[\"joy\"]',\n",
              " \"['sadness']\",\n",
              " \"['annoyance']\",\n",
              " '[\"disapproval\", \"anger\"]',\n",
              " \"['amusement', 'joy']\",\n",
              " '[\"sadness\"]',\n",
              " \"['disapproval', 'confusion']\",\n",
              " \"['fear']\",\n",
              " '[\"anger\"]',\n",
              " '[\"disgust\"]',\n",
              " \"['fear', 'annoyance']\",\n",
              " '[\"annoyance\"]',\n",
              " '[\"annoyance\"]',\n",
              " '[\"anger\"]',\n",
              " \"['confusion']\",\n",
              " '[\"disgust\"]',\n",
              " \"['amusement']\",\n",
              " '[\"disapproval\", \"annoyance\"]',\n",
              " '[\"annoyance\"]',\n",
              " '[\"love\", \"amusement\"]',\n",
              " '[\"annoyance\"]',\n",
              " '[\"optimism\"]',\n",
              " \"['curiosity']\",\n",
              " '[\"disappointment\"]',\n",
              " '[\"confusion\"]',\n",
              " '[\"disgust\"]',\n",
              " \"['optimism']\",\n",
              " '[\"neutral\", \"approval\"]',\n",
              " '[\"confusion\"]',\n",
              " \"['amusement']\",\n",
              " \"['amusement']\",\n",
              " '[\"anger\"]',\n",
              " \"['amusement', 'approval']\",\n",
              " '[\"disapproval\"]',\n",
              " '[\"disgust\"]',\n",
              " '[\"annoyance\"]',\n",
              " '[\"anger\"]',\n",
              " \"['joy', 'surprise']\",\n",
              " \"['disappointment']\",\n",
              " \"['amusement']\",\n",
              " \"['amusement']\",\n",
              " '[\"anger\"]',\n",
              " '[\"annoyance\"]',\n",
              " '[\"anger\"]',\n",
              " \"['anger', 'disapproval']\",\n",
              " \"['annoyance', 'anger']\",\n",
              " '[\"surprise\"]',\n",
              " \"['confusion', 'fear']\",\n",
              " '[\"anger\"]',\n",
              " '[\"disapproval\"]',\n",
              " '[\"anger\"]',\n",
              " '[\"annoyance\"]',\n",
              " '[\"gratitude\"]',\n",
              " '[\"surprise\"]',\n",
              " '[\"joy\"]',\n",
              " \"['gratitude']\",\n",
              " \"['sadness']\",\n",
              " \"['gratitude']\",\n",
              " \"['confusion']\",\n",
              " '[\"fear\"]',\n",
              " \"['optimism', 'nervousness']\",\n",
              " '[\"annoyance\"]',\n",
              " '[\"annoyance\"]',\n",
              " '[\"disapproval\"]',\n",
              " '[\"anger\"]',\n",
              " \"['amusement']\",\n",
              " \"['amusement', 'joy']\",\n",
              " '[\"anger\", \"approval\"]',\n",
              " \"['anger', 'disapproval']\",\n",
              " \"['joy', 'approval']\",\n",
              " '[\"fear\"]',\n",
              " \"['approval']\",\n",
              " '[\"anger\", \"disapproval\"]',\n",
              " \"['excitement']\",\n",
              " '[\"confusion\"]',\n",
              " '[\"joy\"]',\n",
              " \"['amusement', 'confusion']\",\n",
              " \"['disappointment']\",\n",
              " '[\"curiosity\"]',\n",
              " \"['anger']\",\n",
              " '[\"caring\"]',\n",
              " \"['love']\",\n",
              " '[\"gratitude\"]',\n",
              " \"['annoyance', 'confusion']\",\n",
              " '[\"sadness\"]',\n",
              " '[\"disgust\"]',\n",
              " '[\"approval\"]',\n",
              " '[\"surprise\"]',\n",
              " '[\"anger\"]',\n",
              " \"['fear']\",\n",
              " \"['joy', 'approval']\",\n",
              " '[\"joy\"]',\n",
              " '[\"pride\", \"love\"]',\n",
              " '[\"anger\", \"disgust\"]',\n",
              " '[\"anger\"]',\n",
              " \"['amusement']\",\n",
              " '[\"annoyance\"]',\n",
              " \"['anger']\",\n",
              " \"['amusement']\",\n",
              " \"['anger']\",\n",
              " '[\"anger\", \"disgust\"]',\n",
              " '[\"disgust\"]',\n",
              " '[\"annoyance\"]',\n",
              " \"['joy']\",\n",
              " '[\"anger\"]',\n",
              " \"['disgust']\",\n",
              " '[\"joy\", \"love\"]',\n",
              " '[\"anger\"]',\n",
              " '[\"approval\"]',\n",
              " '[\"disappointment\"]',\n",
              " '[\"sadness\"]',\n",
              " '[\"joy\", \"optimism\", \"gratitude\"]',\n",
              " '[\"anger\"]',\n",
              " \"['surprise']\",\n",
              " '[\"anger\"]',\n",
              " \"['amusement']\",\n",
              " '[\"approval\"]',\n",
              " '[\"anger\"]',\n",
              " '[\"anger\"]',\n",
              " '[\"joy\", \"pride\"]',\n",
              " '[\"approval\"]',\n",
              " '[\"amusement\"]',\n",
              " '[\"neutral\"]',\n",
              " '[\"curiosity\", \"desire\"]',\n",
              " \"['fear']\",\n",
              " '[\"annoyance\", \"discomfort\"]',\n",
              " \"['amusement']\",\n",
              " '[\"optimism\"]',\n",
              " '[\"desire\"]',\n",
              " '[\"anger\"]',\n",
              " '[\"annoyance\"]',\n",
              " '[\"anger\"]',\n",
              " '[\"sadness\"]',\n",
              " \"['anger']\",\n",
              " '[\"approval\"]',\n",
              " '[\"joy\"]',\n",
              " '[\"neutral\"]',\n",
              " '[\"sadness\"]',\n",
              " '[\"disgust\"]',\n",
              " '[\"joy\", \"caring\"]',\n",
              " \"['disapproval']\",\n",
              " \"['disappointment']\",\n",
              " '[\"anger\"]',\n",
              " '[\"anger\"]',\n",
              " '[\"disgust\"]',\n",
              " '[\"sadness\", \"disappointment\"]',\n",
              " '[\"anger\"]',\n",
              " '[\"joy\", \"gratitude\"]',\n",
              " '[\"anger\"]',\n",
              " \"['approval']\",\n",
              " '[\"amusement\"]',\n",
              " '[\"disappointment\"]',\n",
              " '[\"joy\"]',\n",
              " \"['sadness']\",\n",
              " '[\"confusion\"]',\n",
              " '[\"disgust\"]',\n",
              " \"['fear']\",\n",
              " '[\"anger\"]',\n",
              " '[\"anger\"]',\n",
              " '[\"neutral\"]',\n",
              " '[\"anger\"]',\n",
              " '[\"anger\"]',\n",
              " '[\"annoyance\"]',\n",
              " '[\"amusement\"]',\n",
              " '[\"annoyance\"]',\n",
              " \"['amusement', 'disappointment']\",\n",
              " \"['disappointment']\",\n",
              " '[\"approval\", \"gratitude\"]',\n",
              " \"['disapproval']\",\n",
              " \"['fear']\",\n",
              " '[\"annoyance\", \"disappointment\"]',\n",
              " '[\"pride\"]',\n",
              " '[\"disgust\"]',\n",
              " '[\"disapproval\"]',\n",
              " '[\"annoyance\"]',\n",
              " '[\"remorse\", \"sadness\"]',\n",
              " '[\"disapproval\"]',\n",
              " \"['surprise', 'realization']\",\n",
              " '[\"annoyance\"]',\n",
              " '[\"gratitude\"]',\n",
              " '[\"annoyance\"]',\n",
              " \"['desire']\",\n",
              " '[\"anger\"]',\n",
              " '[\"gratitude\", \"surprise\"]',\n",
              " '[\"disgust\"]',\n",
              " \"['fear']\",\n",
              " '[\"admiration\"]',\n",
              " \"['joy']\",\n",
              " \"['caring']\",\n",
              " \"['relief']\",\n",
              " '[\"annoyance\"]',\n",
              " '[\"anger\"]',\n",
              " '[\"annoyance\"]',\n",
              " \"['anger', 'disgust']\",\n",
              " '[\"anger\"]',\n",
              " '[\"anger\"]',\n",
              " '[\"anger\"]',\n",
              " '[\"neutral\"]',\n",
              " '[\"anger\"]',\n",
              " '[\"amusement\"]',\n",
              " '[\"neutral\", \"realization\"]',\n",
              " '[\"anger\"]',\n",
              " '[\"optimism\"]',\n",
              " \"['embarrassment']\",\n",
              " '[\"anger\"]',\n",
              " '[\"admiration\"]',\n",
              " '[\"gratitude\"]',\n",
              " \"['excitement']\",\n",
              " '[\"fear\"]',\n",
              " \"['love']\",\n",
              " \"['amusement']\",\n",
              " '[\"gratitude\"]',\n",
              " '[\"amusement\"]',\n",
              " '[\"anger\", \"disapproval\", \"annoyance\"]',\n",
              " '[\"anger\"]',\n",
              " '[\"amusement\"]',\n",
              " '[\"anger\"]',\n",
              " '[\"amusement\"]',\n",
              " \"['neutral']\",\n",
              " '[\"anger\"]',\n",
              " '[\"disapproval\"]',\n",
              " '[\"anger\", \"annoyance\"]',\n",
              " '[\"anger\"]',\n",
              " '[\"anger\", \"disapproval\"]',\n",
              " '[\"annoyance\"]',\n",
              " '[\"annoyance\"]',\n",
              " '[\"anger\"]',\n",
              " '[\"approval\"]',\n",
              " '[\"anger\"]',\n",
              " '[\"surprise\"]',\n",
              " '[\"anger\"]',\n",
              " '[\"approval\"]',\n",
              " '[\"anger\"]',\n",
              " '[\"anger\"]',\n",
              " '[\"embarrassment\"]',\n",
              " '[\"love\"]',\n",
              " '[\"realization\"]',\n",
              " '[\"disgust\"]',\n",
              " \"['anger']\",\n",
              " \"['disgust']\",\n",
              " \"['joy', 'admiration']\",\n",
              " '[\"fear\"]',\n",
              " \"['annoyance']\",\n",
              " '[\"fear\"]',\n",
              " '[\"disapproval\"]',\n",
              " '[\"anger\"]',\n",
              " \"['disappointment']\",\n",
              " '[\"optimism\"]',\n",
              " '[\"sadness\"]',\n",
              " '[\"disapproval\"]',\n",
              " '[\"annoyance\"]',\n",
              " '[\"anger\"]',\n",
              " '[\"anger\", \"disgust\"]',\n",
              " '[\"anger\"]',\n",
              " '[\"remorse\"]',\n",
              " '[\"anger\"]',\n",
              " '[\"disgust\"]',\n",
              " '[\"disappointment\"]',\n",
              " \"['anger', 'confusion']\",\n",
              " \"['annoyance']\",\n",
              " '[\"approval\"]',\n",
              " '[\"gratitude\"]',\n",
              " '[\"anger\"]',\n",
              " \"['gratitude']\",\n",
              " '[\"anger\"]',\n",
              " '[\"disappointment\"]',\n",
              " \"['amusement', 'anger']\",\n",
              " '[\"desire\", \"fear\"]',\n",
              " '[\"anger\"]',\n",
              " '[\"annoyance\"]',\n",
              " \"['disgust']\",\n",
              " \"['amusement']\",\n",
              " '[\"fear\", \"sadness\"]',\n",
              " '[\"surprise\"]',\n",
              " '[\"anger\"]',\n",
              " '[\"anger\"]',\n",
              " \"['approval']\",\n",
              " '[\"annoyance\"]',\n",
              " '[\"joy\"]',\n",
              " '[\"annoyance\"]',\n",
              " \"['anger']\",\n",
              " '[\"amusement\"]',\n",
              " '[\"neutral\"]',\n",
              " '[\"anger\"]',\n",
              " '[\"curiosity\"]',\n",
              " '[\"confusion\"]',\n",
              " '[\"amusement\", \"surprise\"]',\n",
              " '[\"annoyance\"]',\n",
              " '[\"confusion\"]',\n",
              " '[\"anger\"]',\n",
              " '[\"optimism\"]',\n",
              " '[\"anger\"]',\n",
              " '[\"annoyance\"]',\n",
              " '[\"curiosity\", \"neutral\"]',\n",
              " \"['disgust']\",\n",
              " '[\"annoyance\"]',\n",
              " '[\"anger\"]',\n",
              " \"['annoyance']\",\n",
              " '[\"disgust\"]',\n",
              " '[\"fear\"]',\n",
              " '[\"annoyance\", \"disappointment\"]',\n",
              " \"['optimism']\",\n",
              " '[\"anger\", \"disapproval\"]',\n",
              " '[\"joy\"]',\n",
              " '[\"anger\"]',\n",
              " '[\"anger\"]',\n",
              " '[\"anger\"]',\n",
              " \"['joy']\",\n",
              " '[\"sadness\", \"disapproval\"]',\n",
              " '[\"love\"]',\n",
              " '[\"disgust\"]',\n",
              " '[\"joy\"]',\n",
              " \"['anger']\",\n",
              " '[\"disapproval\"]',\n",
              " '[\"joy\", \"approval\"]',\n",
              " '[\"annoyance\"]',\n",
              " \"['anger']\",\n",
              " '[\"disapproval\"]',\n",
              " '[\"disapproval\"]',\n",
              " '[\"amusement\"]',\n",
              " \"['anger']\",\n",
              " '[\"amusement\"]',\n",
              " '[\"gratitude\"]',\n",
              " '[\"anger\"]',\n",
              " '[\"amusement\", \"approval\"]',\n",
              " '[\"anger\", \"disapproval\"]',\n",
              " '[\"anger\"]',\n",
              " \"['disappointment']\",\n",
              " '[\"optimism\", \"excitement\"]',\n",
              " \"['fear']\",\n",
              " '[\"excitement\"]',\n",
              " '[\"excitement\"]',\n",
              " '[\"joy\", \"love\"]',\n",
              " '[\"gratitude\"]',\n",
              " \"['desire']\",\n",
              " '[\"annoyance\"]',\n",
              " '[\"curiosity\"]',\n",
              " \"['annoyance']\",\n",
              " \"['disgust']\",\n",
              " \"['anger']\",\n",
              " '[\"sadness\"]',\n",
              " '[\"annoyance\"]',\n",
              " '[\"annoyance\"]',\n",
              " '[\"pride\"]',\n",
              " '[\"disgust\"]',\n",
              " '[\"excitement\", \"joy\"]',\n",
              " \"['sadness', 'fear']\",\n",
              " '[\"approval\"]',\n",
              " '[\"neutral\"]',\n",
              " '[\"anger\", \"disgust\"]',\n",
              " '[\"anger\"]',\n",
              " '[\"disgust\"]',\n",
              " '[\"joy\"]',\n",
              " '[\"anger\"]',\n",
              " \"['joy']\",\n",
              " '[\"disapproval\", \"disgust\", \"sadness\"]',\n",
              " '[\"annoyance\"]',\n",
              " '[\"sadness\"]',\n",
              " '[\"amusement\"]',\n",
              " '[\"disapproval\"]',\n",
              " '[\"excitement\"]',\n",
              " '[\"anger\"]',\n",
              " '[\"anger\", \"disgust\"]',\n",
              " '[\"caring\"]',\n",
              " '[\"annoyance\"]',\n",
              " '[\"neutral\"]',\n",
              " \"['anger', 'amusement']\",\n",
              " '[\"annoyance\"]',\n",
              " '[\"neutral\"]',\n",
              " '[\"anger\"]',\n",
              " \"['confusion']\",\n",
              " \"['anger']\",\n",
              " \"['disgust']\",\n",
              " '[\"gratitude\"]',\n",
              " '[\"anger\"]',\n",
              " '[\"love\"]',\n",
              " '[\"anger\", \"disgust\"]',\n",
              " '[\"admiration\"]',\n",
              " \"['amusement', 'annoyance']\",\n",
              " '[\"amusement\", \"joy\"]',\n",
              " \"['sadness']\",\n",
              " '[\"anger\", \"annoyance\", \"disapproval\"]',\n",
              " '[\"caring\"]',\n",
              " '[\"anger\"]',\n",
              " '[\"anger\"]',\n",
              " '[\"anger\"]',\n",
              " '[\"anger\"]',\n",
              " '[\"excitement\", \"joy\"]',\n",
              " '[\"anger\", \"disappointment\"]',\n",
              " '[\"joy\", \"caring\"]',\n",
              " \"['anger']\",\n",
              " '[\"disapproval\"]',\n",
              " '[\"annoyance\", \"neutral\"]',\n",
              " '[\"sadness\", \"relief\"]',\n",
              " '[\"annoyance\", \"disapproval\"]',\n",
              " \"['approval']\",\n",
              " '[\"anger\"]',\n",
              " '[\"anger\", \"disgust\"]',\n",
              " '[\"anger\"]',\n",
              " '[\"annoyance\"]',\n",
              " \"['disappointment']\",\n",
              " '[\"anger\", \"disapproval\", \"sadness\"]',\n",
              " '[\"amusement\"]',\n",
              " '[\"disapproval\"]',\n",
              " '[\"disgust\"]',\n",
              " \"['amusement']\",\n",
              " '[\"love\"]',\n",
              " \"['amusement']\",\n",
              " '[\"nervousness\"]',\n",
              " '[\"excitement\"]',\n",
              " \"['joy']\",\n",
              " \"['confusion']\",\n",
              " '[\"anger\"]',\n",
              " '[\"sadness\"]',\n",
              " \"['amusement']\",\n",
              " '[\"disgust\"]',\n",
              " \"['disgust']\",\n",
              " \"['love']\",\n",
              " '[\"approval\", \"excitement\"]',\n",
              " '[\"anger\"]',\n",
              " \"['joy']\",\n",
              " \"['disapproval']\",\n",
              " '[\"annoyance\"]',\n",
              " \"['amusement']\",\n",
              " '[\"anger\"]',\n",
              " \"['remorse']\",\n",
              " '[\"joy\"]',\n",
              " '[\"approval\"]',\n",
              " \"['disappointment']\",\n",
              " '[\"anger\"]',\n",
              " \"['anger']\",\n",
              " '[\"anger\"]',\n",
              " \"['confusion']\",\n",
              " \"['sadness']\",\n",
              " '[\"anger\"]',\n",
              " '[\"anger\", \"disgust\"]',\n",
              " '[\"anger\"]',\n",
              " '[\"admiration\"]',\n",
              " '[\"confusion\"]',\n",
              " \"['embarrassment']\",\n",
              " '[\"annoyance\", \"disappointment\"]',\n",
              " '[\"annoyance\", \"disapproval\"]',\n",
              " '[\"anger\"]',\n",
              " '[\"annoyance\"]',\n",
              " \"['sadness']\",\n",
              " '[\"optimism\"]',\n",
              " '[\"gratitude\"]',\n",
              " '[\"disgust\"]',\n",
              " '[\"annoyance\"]',\n",
              " \"['annoyance']\",\n",
              " '[\"hope\"]',\n",
              " '[\"excitement\"]',\n",
              " '[\"amusement\"]',\n",
              " '[\"curiosity\"]',\n",
              " \"['disgust']\",\n",
              " '[\"amusement\"]',\n",
              " '[\"annoyance\"]',\n",
              " '[\"annoyance\"]',\n",
              " \"['love']\",\n",
              " '[\"anger\"]',\n",
              " '[\"surprise\"]',\n",
              " '[\"anger\"]',\n",
              " '[\"anger\"]',\n",
              " '[\"nervousness\"]',\n",
              " '[\"gratitude\"]',\n",
              " '[\"anger\", \"sadness\"]',\n",
              " '[\"joy\", \"excitement\", \"approval\"]',\n",
              " '[\"disgust\"]',\n",
              " '[\"anger\"]',\n",
              " '[\"annoyance\"]',\n",
              " '[\"gratitude\"]',\n",
              " '[\"gratitude\"]',\n",
              " '[\"caring\"]',\n",
              " '[\"joy\", \"love\"]',\n",
              " '[\"anger\"]',\n",
              " '[\"confusion\"]',\n",
              " '[\"joy\", \"love\"]',\n",
              " '[\"amusement\"]',\n",
              " '[\"relief\"]',\n",
              " '[\"amusement\"]',\n",
              " '[\"anger\"]',\n",
              " '[\"disappointment\"]',\n",
              " '[\"disappointment\"]',\n",
              " \"['annoyance']\",\n",
              " '[\"excitement\"]',\n",
              " '[\"joy\"]',\n",
              " \"['neutral']\",\n",
              " '[\"anger\"]',\n",
              " '[\"amusement\"]',\n",
              " \"['sadness']\",\n",
              " \"['confusion']\",\n",
              " \"['joy']\",\n",
              " '[\"disappointment\"]',\n",
              " '[\"nostalgia\"]',\n",
              " '[\"gratitude\", \"joy\"]',\n",
              " '[\"anger\"]',\n",
              " '[\"fear\", \"disgust\"]',\n",
              " '[\"anger\"]',\n",
              " \"['anger']\",\n",
              " '[\"anger\"]',\n",
              " \"['disappointment']\",\n",
              " '[\"gratitude\", \"joy\"]',\n",
              " '[\"disgust\"]',\n",
              " '[\"annoyance\"]',\n",
              " '[\"disgust\"]',\n",
              " '[\"confusion\"]',\n",
              " \"['disappointment']\",\n",
              " '[\"confusion\"]',\n",
              " \"['joy']\",\n",
              " '[\"anger\"]',\n",
              " '[\"anger\"]',\n",
              " \"['sadness']\",\n",
              " '[\"pain\"]',\n",
              " '[\"confusion\"]',\n",
              " '[\"pride\"]',\n",
              " '[\"anger\"]',\n",
              " '[\"gratitude\"]',\n",
              " '[\"annoyance\"]',\n",
              " '[\"anger\"]',\n",
              " '[\\'\"joy\"\\']',\n",
              " '[\"anger\"]',\n",
              " \"['love']\",\n",
              " '[\"anger\"]',\n",
              " '[\"joy\"]',\n",
              " '[\"amusement\"]',\n",
              " '[\"disapproval\"]',\n",
              " '[\"fear\"]',\n",
              " '[\"caring\", \"optimism\"]',\n",
              " '[\"remorse\"]',\n",
              " '[\"sadness\"]',\n",
              " '[\"confusion\"]',\n",
              " '[\"anger\"]',\n",
              " '[\"annoyance\"]',\n",
              " '[\"annoyance\"]',\n",
              " '[\"anger\"]',\n",
              " \"['disappointment']\",\n",
              " '[\"desire\"]',\n",
              " '[\"anger\"]',\n",
              " '[\"amusement\"]',\n",
              " '[\"pride\"]',\n",
              " '[\"joy\"]',\n",
              " '[\"annoyance\"]',\n",
              " '[\"joy\", \"nostalgia\"]',\n",
              " '[\"anger\"]',\n",
              " '[\"anger\"]',\n",
              " '[\"amusement\"]',\n",
              " '[\"desire\"]',\n",
              " '[\"anger\"]',\n",
              " '[\"curiosity\"]',\n",
              " '[\"determination\"]',\n",
              " '[\"disapproval\"]',\n",
              " '[\"gratitude\"]',\n",
              " '[\"joy\", \"caring\"]',\n",
              " '[\"anger\"]',\n",
              " '[\"gratitude\"]',\n",
              " '[\"joy\"]',\n",
              " '[\"sadness\"]',\n",
              " '[\"gratitude\"]',\n",
              " '[\"gratitude\"]',\n",
              " '[\"anger\", \"disgust\"]',\n",
              " '[\"anger\"]',\n",
              " '[\"disapproval\"]',\n",
              " '[\"disgust\"]',\n",
              " '[\"approval\"]',\n",
              " '[\"anger\"]',\n",
              " '[\"anger\"]',\n",
              " '[\"annoyance\"]',\n",
              " '[\"anger\", \"disgust\"]',\n",
              " '[\"anger\"]',\n",
              " '[\"approval\"]',\n",
              " '[\"anger\"]',\n",
              " '[\"joy\"]',\n",
              " '[\"annoyance\"]',\n",
              " '[\"anger\"]',\n",
              " '[\"caring\"]',\n",
              " '[\"amusement\"]',\n",
              " '[\"joy\"]',\n",
              " \"['love']\",\n",
              " '[\"sadness\", \"disappointment\"]',\n",
              " '[\"anger\"]',\n",
              " '[\"disgust\"]',\n",
              " '[\"sadness\"]',\n",
              " '[\"joy\"]',\n",
              " '[\"anger\"]',\n",
              " '[\"neutral\"]',\n",
              " '[\"amusement\"]',\n",
              " '[\"amusement\"]',\n",
              " '[\"anger\"]',\n",
              " '[\"anger\"]',\n",
              " '[\"optimism\"]',\n",
              " '[\"annoyance\"]',\n",
              " '[\"excitement\"]',\n",
              " '[\"disapproval\", \"annoyance\"]',\n",
              " '[\"admiration\"]',\n",
              " \"['disgust']\",\n",
              " \"['sadness']\",\n",
              " '[\"amusement\", \"curiosity\"]',\n",
              " '[\"anger\"]',\n",
              " '[\"anger\"]',\n",
              " '[\"anger\"]',\n",
              " '[\"anger\"]',\n",
              " '[\"annoyance\", \"confusion\"]',\n",
              " \"['sadness']\",\n",
              " '[\"annoyance\"]',\n",
              " \"['anger']\",\n",
              " '[\"gratitude\"]',\n",
              " '[\"gratitude\"]',\n",
              " '[\"anger\"]',\n",
              " '[\"joy\", \"curiosity\"]',\n",
              " '[\"anger\"]',\n",
              " '[\"anger\"]',\n",
              " '[\"gratitude\"]',\n",
              " '[\"annoyance\"]',\n",
              " '[\"anger\"]',\n",
              " \"['excitement']\",\n",
              " '[\"sadness\", \"disapproval\"]',\n",
              " '[\"anger\"]',\n",
              " '[\"annoyance\"]',\n",
              " '[\"joy\"]',\n",
              " '[\"neutral\"]',\n",
              " '[\"admiration\"]',\n",
              " '[\"admiration\"]',\n",
              " '[\"anger\"]',\n",
              " '[\"disgust\"]',\n",
              " '[\"disgust\"]',\n",
              " \"['confusion']\",\n",
              " \"['approval']\",\n",
              " '[\"anger\"]',\n",
              " '[\"annoyance\"]',\n",
              " '[\"joy\", \"pride\"]',\n",
              " '[\"disappointment\"]',\n",
              " '[\"anger\"]',\n",
              " '[\"disapproval\"]',\n",
              " '[\"optimism\"]',\n",
              " '[\"fear\"]',\n",
              " \"['disapproval']\",\n",
              " '[\"anger\"]',\n",
              " '[\"neutral\"]',\n",
              " '[\"annoyance\"]',\n",
              " '[\"confusion\"]',\n",
              " \"['sadness']\",\n",
              " \"['doubt']\",\n",
              " '[\"annoyance\"]',\n",
              " '[\"amusement\"]',\n",
              " \"['fear']\",\n",
              " '[\"annoyance\", \"disapproval\"]',\n",
              " '[\"anger\"]',\n",
              " \"['disgust']\",\n",
              " \"['excitement']\",\n",
              " \"['worry']\",\n",
              " '[\"approval\", \"disappointment\"]',\n",
              " '[\"anger\"]',\n",
              " '[\"annoyance\"]',\n",
              " \"['joy']\",\n",
              " '[\"anger\"]',\n",
              " '[\"anger\"]',\n",
              " '[\"anger\", \"disapproval\"]',\n",
              " \"['anger']\",\n",
              " '[\"annoyance\"]',\n",
              " '[\"confusion\"]',\n",
              " '[\"anger\"]',\n",
              " '[\"gratitude\", \"approval\"]',\n",
              " '[\"anger\"]',\n",
              " '[\"annoyance\"]',\n",
              " '[\"admiration\"]',\n",
              " '[\"disgust\"]',\n",
              " \"['neutral']\",\n",
              " '[\"anger\"]',\n",
              " '[\"joy\"]',\n",
              " '[\"surprise\", \"confusion\"]',\n",
              " '[\"love\"]',\n",
              " '[\"anger\"]',\n",
              " \"['disapproval']\",\n",
              " '[\"annoyance\"]',\n",
              " '[\"amusement\"]',\n",
              " '[\"joy\", \"amusement\", \"relief\"]',\n",
              " '[\"joy\", \"love\"]',\n",
              " \"['confusion']\",\n",
              " '[\"anger\"]',\n",
              " \"['sadness']\",\n",
              " '[\"sadness\"]',\n",
              " '[\"gratitude\"]',\n",
              " '[\"desire\"]',\n",
              " '[\"gratitude\", \"joy\"]',\n",
              " '[\"joy\"]',\n",
              " '[\"amusement\"]',\n",
              " '[\"annoyance\", \"disappointment\"]',\n",
              " '[\"gratitude\"]',\n",
              " \"['approval']\",\n",
              " \"['joy']\",\n",
              " '[\"confusion\"]',\n",
              " '[\"disgust\"]',\n",
              " '[\"desire\"]',\n",
              " '[\"approval\"]',\n",
              " '[\"amusement\"]',\n",
              " '[\"amusement\"]',\n",
              " \"['disgust']\",\n",
              " '[\"annoyance\"]',\n",
              " '[\"anger\"]',\n",
              " '[\"curiosity\"]',\n",
              " '[\"approval\"]',\n",
              " '[\"relief\"]',\n",
              " \"['approval']\",\n",
              " '[\"anger\"]',\n",
              " '[\"anger\"]',\n",
              " '[\"annoyance\"]',\n",
              " '[\"amusement\"]',\n",
              " '[\"surprise\"]',\n",
              " '[\"disgust\"]',\n",
              " '[\"joy\"]',\n",
              " '[\"fear\"]',\n",
              " '[\"disgust\"]',\n",
              " '[\"embarrassment\"]',\n",
              " '[\"amusement\"]',\n",
              " '[\"confusion\"]',\n",
              " '[\"neutral\"]',\n",
              " '[\"joy\", \"love\"]',\n",
              " \"['curiosity']\",\n",
              " '[\"disgust\"]',\n",
              " '[\"approval\"]',\n",
              " '[\"disapproval\"]',\n",
              " '[\"anger\"]',\n",
              " '[\"gratitude\"]',\n",
              " '[\"amusement\"]',\n",
              " '[\"disgust\"]',\n",
              " '[\"gratitude\"]',\n",
              " '[\"anger\"]',\n",
              " '[\"excitement\"]',\n",
              " \"['annoyance']\",\n",
              " '[\"relief\"]',\n",
              " '[\"sadness\"]',\n",
              " '[\"anger\"]',\n",
              " '[\"amusement\"]',\n",
              " '[\"approval\"]',\n",
              " '[\"annoyance\"]',\n",
              " '[\"joy\", \"gratitude\"]',\n",
              " '[\"disapproval\"]',\n",
              " '[\"anger\"]',\n",
              " '[\"amusement\", \"joy\"]',\n",
              " '[\"disappointment\"]',\n",
              " '[\"anger\"]',\n",
              " '[\"anger\", \"approval\"]',\n",
              " \"['disgust']\",\n",
              " \"['anger']\",\n",
              " '[\"anger\"]',\n",
              " \"['curiosity']\",\n",
              " '[\"joy\"]',\n",
              " '[\"annoyance\"]',\n",
              " \"['amusement']\",\n",
              " '[\"admiration\"]',\n",
              " '[\"anger\"]',\n",
              " '[\"approval\"]',\n",
              " '[\"\\'amusement\\'\", \"\\'annoyance\\'\"]',\n",
              " '[\"annoyance\"]',\n",
              " '[\"anger\"]',\n",
              " '[\"amusement\"]',\n",
              " '[\"joy\"]',\n",
              " '[\"joy\"]',\n",
              " '[\"disappointment\", \"sadness\"]',\n",
              " '[\"annoyance\", \"disapproval\"]',\n",
              " \"['confusion']\",\n",
              " \"['anger']\",\n",
              " '[\"disappointment\"]',\n",
              " '[\"\\'approval\\'\"]',\n",
              " \"['amusement']\",\n",
              " \"['grief']\",\n",
              " '[\"disapproval\"]',\n",
              " '[\"curiosity\"]',\n",
              " '[\"gratitude\"]',\n",
              " '[\"joy\"]',\n",
              " \"['anger']\",\n",
              " '[\"neutral\"]',\n",
              " '[\"anger\"]',\n",
              " '[\"anger\"]',\n",
              " '[\"anger\"]',\n",
              " '[\"disappointment\"]',\n",
              " '[\"joy\", \"optimism\"]',\n",
              " '[\"joy\"]',\n",
              " '[\"anger\"]',\n",
              " '[\"anger\"]',\n",
              " '[\"sadness\"]',\n",
              " \"['optimism']\",\n",
              " '[\"joy\", \"gratitude\"]',\n",
              " '[\"admiration\"]',\n",
              " '[\"annoyance\"]',\n",
              " '[\"anger\"]',\n",
              " '[\"confusion\"]',\n",
              " '[\"anger\"]',\n",
              " \"['pride']\",\n",
              " \"['sadness']\",\n",
              " '[\"anger\"]',\n",
              " '[\"confusion\"]',\n",
              " \"['confusion']\",\n",
              " '[\"disapproval\"]',\n",
              " '[\"anger\"]',\n",
              " '[\"gratitude\"]',\n",
              " '[\"caring\", \"love\"]',\n",
              " '[\"annoyance\"]',\n",
              " \"['sadness']\",\n",
              " \"['disgust']\",\n",
              " '[\"anger\"]',\n",
              " \"['disgust']\",\n",
              " \"['gratitude']\",\n",
              " '[\"annoyance\"]',\n",
              " \"['anger']\",\n",
              " '[\"pride\"]',\n",
              " '[\"optimism\"]',\n",
              " '[\"disapproval\"]',\n",
              " '[\"joy\", \"love\", \"admiration\"]',\n",
              " '[\"caring\"]',\n",
              " '[\"\\'desire\\'\"]',\n",
              " '[\"amusement\"]',\n",
              " \"['joy']\",\n",
              " '[\"amusement\"]',\n",
              " '[\"desire\"]',\n",
              " \"['anger']\",\n",
              " '[\"amusement\"]',\n",
              " '[\"anger\"]',\n",
              " '[\"joy\"]',\n",
              " \"['anger']\",\n",
              " '[\"disapproval\"]',\n",
              " '[\"annoyance\"]',\n",
              " '[\"disgust\"]',\n",
              " '[\"amusement\"]',\n",
              " '[\"anger\"]',\n",
              " '[\"desire\"]',\n",
              " '[\"excitement\", \"joy\"]',\n",
              " \"['amusement']\",\n",
              " '[\"anger\"]',\n",
              " '[\"joy\", \"caring\"]',\n",
              " \"['amusement']\",\n",
              " '[\"disappointment\"]',\n",
              " '[\"\\'remorse\\'\"]',\n",
              " '[\"relief\"]',\n",
              " '[\"gratitude\", \"approval\"]',\n",
              " '[\"amusement\"]',\n",
              " '[\"disgust\"]',\n",
              " \"['sadness']\",\n",
              " '[\"annoyance\"]',\n",
              " '[\"optimism\"]',\n",
              " '[\"amusement\"]',\n",
              " '[\"annoyance\"]',\n",
              " '[\"amusement\"]',\n",
              " '[\"disgust\"]',\n",
              " \"['fear']\",\n",
              " '[\"gratitude\"]',\n",
              " '[\"anger\"]',\n",
              " '[\"anger\"]',\n",
              " '[\"anger\"]',\n",
              " '[\"pride\"]',\n",
              " \"['disappointment']\",\n",
              " '[\"gratitude\"]',\n",
              " \"['joy']\",\n",
              " ' [\"joy\"]',\n",
              " '[\"disapproval\", \"annoyance\"]',\n",
              " '[\"annoyance\"]',\n",
              " '[\"disgust\"]',\n",
              " \"['sadness']\",\n",
              " \"['sadness']\",\n",
              " '[\"disgust\"]',\n",
              " '[\"approval\"]',\n",
              " \"['sadness']\",\n",
              " \"['disappointment']\",\n",
              " \"['gratitude']\",\n",
              " \" ['joy', 'excitement', 'caring']\",\n",
              " '[\"anger\"]',\n",
              " '[\"remorse\"]',\n",
              " '[\"surprise\"]',\n",
              " '[\"disgust\"]',\n",
              " '[\"joy\"]',\n",
              " '[\"anger\"]',\n",
              " \"['sadness']\",\n",
              " '[\"anger\"]',\n",
              " '[\"joy\", \"caring\"]',\n",
              " '[\"amusement\"]',\n",
              " '[\"gratitude\"]',\n",
              " '[\"anger\"]',\n",
              " '[\"anger\", \"confusion\"]',\n",
              " '[\"joy\"]',\n",
              " \"['amusement']\",\n",
              " '[\"joy\"]',\n",
              " '[\"confusion\"]',\n",
              " '[\"gratitude\"]',\n",
              " '[\"disapproval\"]',\n",
              " \"['surprise']\",\n",
              " \"['joy', 'love']\",\n",
              " '[\"confusion\"]',\n",
              " '[\"disgust\"]',\n",
              " '[\"anger\"]',\n",
              " '[\"neutral\"]',\n",
              " '[\"disgust\"]',\n",
              " '[\"sadness\"]',\n",
              " '[\"anger\", \"annoyance\"]',\n",
              " '[\"anger\"]',\n",
              " \"['amusement']\",\n",
              " '[\"joy\"]',\n",
              " \"['confusion', 'annoyance']\",\n",
              " '[\"anger\"]',\n",
              " '[\"annoyance\"]',\n",
              " \"['joy']\",\n",
              " '[\"annoyance\"]',\n",
              " '[\"optimism\"]',\n",
              " '[\"joy\"]',\n",
              " \"['disgust']\",\n",
              " '[\"disappointment\"]',\n",
              " '[\"anger\"]',\n",
              " '[\"anger\"]',\n",
              " \"['amusement']\",\n",
              " '[\"amusement\"]',\n",
              " \"['joy']\",\n",
              " \"['anger', 'annoyance']\",\n",
              " '[\"disapproval\"]',\n",
              " '[\"pride\"]',\n",
              " '[\"joy\"]',\n",
              " '[\"amusement\", \"annoyance\"]',\n",
              " '[\"amusement\"]',\n",
              " '[\"joy\"]',\n",
              " \"['amusement']\",\n",
              " '[\"anger\"]',\n",
              " '[\"disapproval\"]',\n",
              " '[\"anger\"]',\n",
              " '[\"amusement\"]',\n",
              " \"['disgust']\",\n",
              " '[\"excitement\"]',\n",
              " '[\"confusion\"]',\n",
              " '[\"gratitude\", \"joy\"]',\n",
              " '[\"confusion\"]',\n",
              " \"['sadness']\",\n",
              " '[\"neutral\"]',\n",
              " '[\"anger\"]',\n",
              " \"['surprise', 'annoyance']\",\n",
              " \"['grief']\",\n",
              " '[\"gratitude\"]',\n",
              " \"['fear']\",\n",
              " '[\"anger\", \"love\"]',\n",
              " '[\"anger\"]',\n",
              " '[\"joy\", \"gratitude\", \"relief\"]',\n",
              " '[\"anger\"]',\n",
              " '[\"love\", \"joy\"]',\n",
              " \"['sadness']\",\n",
              " '[\"annoyance\"]',\n",
              " '[\"sadness\"]',\n",
              " '[\"approval\"]',\n",
              " \"['fear']\",\n",
              " '[\"disgust\"]',\n",
              " '[\"annoyance\", \"disappointment\"]',\n",
              " \"['remorse']\",\n",
              " \"['anger']\",\n",
              " \"['annoyance']\",\n",
              " '[\"annoyance\"]',\n",
              " \"['confusion', 'surprise']\",\n",
              " '[\"amusement\"]',\n",
              " '[\"joy\", \"gratitude\"]',\n",
              " '[\"anger\"]',\n",
              " '[\"anger\", \"disapproval\"]',\n",
              " '[\"realization\"]',\n",
              " \"['amusement']\",\n",
              " \"['joy']\",\n",
              " \"['amusement']\",\n",
              " '[\"annoyance\"]',\n",
              " '[\"sadness\", \"caring\"]',\n",
              " \"['sadness']\",\n",
              " '[\"anger\"]',\n",
              " '[\"amusement\"]',\n",
              " '[\"joy\", \"optimism\"]',\n",
              " \"['remorse']\",\n",
              " \"['amusement']\",\n",
              " \"['amusement']\",\n",
              " '[\"sadness\", \"admiration\"]',\n",
              " '[\"amusement\"]',\n",
              " \"['disgust', 'confusion']\",\n",
              " '[\"excitement\"]',\n",
              " '[\"anger\"]',\n",
              " \"['amusement']\",\n",
              " '[\"anger\"]',\n",
              " '[\"\\'annoyance\\'\"]',\n",
              " \"['disgust', 'anger']\",\n",
              " '[\"anger\"]',\n",
              " \"['disapproval', 'anger']\",\n",
              " '[\"anger\"]',\n",
              " '[\"curiosity\"]',\n",
              " '[\"sadness\"]',\n",
              " '[\"joy\"]',\n",
              " '[\"annoyance\"]',\n",
              " '[\"disappointment\"]',\n",
              " '[\"fear\"]',\n",
              " \"['anger']\",\n",
              " '[\"anger\"]',\n",
              " '[\"anger\"]',\n",
              " '[\"gratitude\"]',\n",
              " '[\"anger\"]',\n",
              " '[\"approval\"]',\n",
              " '[\"admiration\"]']"
            ]
          },
          "metadata": {},
          "execution_count": 29
        }
      ]
    },
    {
      "cell_type": "code",
      "source": [
        "final_map_ds = {'\"joy\"': 'joy',\n",
        " \"'amusement'\": 'amusement',\n",
        " \"'annoyance'\": 'annoyance',\n",
        " \"'approval'\": 'approval',\n",
        " \"'desire'\": 'desire',\n",
        " \"'remorse'\": 'remorse',\n",
        " 'admiration': 'admiration',\n",
        " 'amusement': 'amusement',\n",
        " 'anger': 'anger',\n",
        " 'annoyance': 'annoyance',\n",
        " 'approval': 'approval',\n",
        " 'caring': 'caring',\n",
        " 'confusion': 'confusion',\n",
        " 'curiosity': 'curiosity',\n",
        " 'desire': 'desire',\n",
        " 'determination': 'none',\n",
        " 'disappointment': 'disappointment',\n",
        " 'disapproval': 'disapproval',\n",
        " 'discomfort': 'none',\n",
        " 'disgust': 'disgust',\n",
        " 'doubt': 'none',\n",
        " 'embarrassment': 'embarrassment',\n",
        " 'excitement': 'excitement',\n",
        " 'fear': 'fear',\n",
        " 'gratitude': 'gratitude',\n",
        " 'grief': 'grief',\n",
        " 'hope': 'none',\n",
        " 'joy': 'joy',\n",
        " 'love': 'love',\n",
        " 'nervousness': 'nervousness',\n",
        " 'neutral': 'neutral',\n",
        " 'nostalgia': 'none',\n",
        " 'optimism': 'optimism',\n",
        " 'pain': 'none',\n",
        " 'pride': 'pride',\n",
        " 'realization': 'realization',\n",
        " 'relief': 'relief',\n",
        " 'remorse': 'remorse',\n",
        " 'sadness': 'sadness',\n",
        " 'surprise': 'surprise',\n",
        " 'worry': 'none'\n",
        "}"
      ],
      "metadata": {
        "id": "1hx5YAZPvm7B"
      },
      "execution_count": 30,
      "outputs": []
    },
    {
      "cell_type": "code",
      "source": [
        "df[\"deepseek_final\"] = df[\"deepseek\"].apply(literal_eval)"
      ],
      "metadata": {
        "id": "MkHn4WWRvsmi"
      },
      "execution_count": 31,
      "outputs": []
    },
    {
      "cell_type": "code",
      "source": [
        "gold = []\n",
        "gold_all = []\n",
        "for item in df[\"annotation\"].tolist():\n",
        "  gold.append(item.split(','))\n",
        "  gold_all.extend(item.split(','))"
      ],
      "metadata": {
        "id": "ybjVmGW4vupx"
      },
      "execution_count": 32,
      "outputs": []
    },
    {
      "cell_type": "code",
      "source": [
        "system = []\n",
        "system_all = []\n",
        "for index, item in enumerate(df[\"deepseek\"].tolist()):\n",
        "  resp = []\n",
        "  try:\n",
        "    l = ast.literal_eval(item)\n",
        "    for i in l:\n",
        "      resp.append(final_map_ds[i])\n",
        "  except:\n",
        "    resp.append(final_map_ds[item])\n",
        "  system.append(resp)\n",
        "  system_all.extend(resp)"
      ],
      "metadata": {
        "collapsed": true,
        "id": "7_oLgQCUvxvB"
      },
      "execution_count": 33,
      "outputs": []
    },
    {
      "cell_type": "code",
      "source": [
        "lb = MultiLabelBinarizer(classes=classes)\n",
        "y_true = lb.fit_transform(gold)\n",
        "y_pred = lb.fit_transform(system)"
      ],
      "metadata": {
        "colab": {
          "base_uri": "https://localhost:8080/"
        },
        "id": "CNNXDEakv4Nh",
        "outputId": "7090350c-5e05-4491-8310-ac1f7dc910df"
      },
      "execution_count": 34,
      "outputs": [
        {
          "output_type": "stream",
          "name": "stderr",
          "text": [
            "/usr/local/lib/python3.11/dist-packages/sklearn/preprocessing/_label.py:909: UserWarning: unknown class(es) ['none'] will be ignored\n",
            "  warnings.warn(\n"
          ]
        }
      ]
    },
    {
      "cell_type": "code",
      "source": [
        "f1_macro = f1_score(y_true, y_pred, average='macro') # f1_macro\n",
        "f1_micro = f1_score(y_true, y_pred, average='micro')\n",
        "accuracy = accuracy_score(y_true, y_pred)\n",
        "\n",
        "\n",
        "print(f'Accuracy: {accuracy}')\n",
        "print(f'F1-macro: {f1_macro}')\n",
        "print(f'F1-micro: {f1_micro}')"
      ],
      "metadata": {
        "colab": {
          "base_uri": "https://localhost:8080/"
        },
        "id": "6phVNGN7wHi-",
        "outputId": "7884c435-e7ef-42a6-b313-b408a314b77f"
      },
      "execution_count": 35,
      "outputs": [
        {
          "output_type": "stream",
          "name": "stdout",
          "text": [
            "Accuracy: 0.214\n",
            "F1-macro: 0.2940646496983506\n",
            "F1-micro: 0.27059843885516044\n"
          ]
        }
      ]
    },
    {
      "cell_type": "code",
      "source": [
        "ev_df.loc[ev_df['task'] == 'goemo', ['accuracy', 'f1_macro']] = [\n",
        "  round(accuracy * 100, 2),\n",
        "  round(f1_macro * 100, 2)\n",
        "]\n",
        "ev_df.to_csv('deepseek_evaluation.csv', index=False)"
      ],
      "metadata": {
        "id": "d7gNoTNLwvtk"
      },
      "execution_count": 38,
      "outputs": []
    },
    {
      "cell_type": "markdown",
      "source": [
        "##11. GoEmoPer0"
      ],
      "metadata": {
        "id": "-89b1rkQz7xB"
      }
    },
    {
      "cell_type": "code",
      "source": [
        "!wget https://raw.githubusercontent.com/google-research/google-research/master/goemotions/data/emotions.txt"
      ],
      "metadata": {
        "colab": {
          "base_uri": "https://localhost:8080/"
        },
        "id": "2-yD83Ogi51z",
        "outputId": "e07f36b3-1673-4fb5-9762-bd08a456aad6"
      },
      "execution_count": 140,
      "outputs": [
        {
          "output_type": "stream",
          "name": "stdout",
          "text": [
            "--2025-04-25 20:33:13--  https://raw.githubusercontent.com/google-research/google-research/master/goemotions/data/emotions.txt\n",
            "Resolving raw.githubusercontent.com (raw.githubusercontent.com)... 185.199.111.133, 185.199.108.133, 185.199.110.133, ...\n",
            "Connecting to raw.githubusercontent.com (raw.githubusercontent.com)|185.199.111.133|:443... connected.\n",
            "HTTP request sent, awaiting response... 200 OK\n",
            "Length: 248 [text/plain]\n",
            "Saving to: ‘emotions.txt.2’\n",
            "\n",
            "\remotions.txt.2        0%[                    ]       0  --.-KB/s               \remotions.txt.2      100%[===================>]     248  --.-KB/s    in 0s      \n",
            "\n",
            "2025-04-25 20:33:14 (4.10 MB/s) - ‘emotions.txt.2’ saved [248/248]\n",
            "\n"
          ]
        }
      ]
    },
    {
      "cell_type": "code",
      "source": [
        "import pandas as pd\n",
        "import numpy as np\n",
        "from sklearn.metrics import accuracy_score, f1_score\n",
        "from ast import literal_eval\n",
        "import re"
      ],
      "metadata": {
        "id": "vP5xpeisi-gP"
      },
      "execution_count": 141,
      "outputs": []
    },
    {
      "cell_type": "code",
      "source": [
        "ds_evaluation_df = pd.read_excel('goemoper0.xlsx')"
      ],
      "metadata": {
        "id": "mVB19qAGjDWt"
      },
      "execution_count": 142,
      "outputs": []
    },
    {
      "cell_type": "code",
      "source": [
        "labels_df = pd.read_csv('emotions.txt', header=None)\n",
        "ID_TO_EMOTION = dict(labels_df[0])\n",
        "EMOTION_TO_ID = {emotion: emotion_id for emotion_id, emotion in ID_TO_EMOTION.items()}"
      ],
      "metadata": {
        "id": "ZVzl7wa6i_-g"
      },
      "execution_count": 143,
      "outputs": []
    },
    {
      "cell_type": "code",
      "source": [
        "ds_evaluation_df[\"annotation\"] = ds_evaluation_df[\"annotation\"].apply(literal_eval)"
      ],
      "metadata": {
        "id": "n_efI2QrjFyJ"
      },
      "execution_count": 144,
      "outputs": []
    },
    {
      "cell_type": "code",
      "source": [
        "ds_evaluation_df['deepseek_final'] = \"None\"\n",
        "for index, row in ds_evaluation_df.iterrows():\n",
        "    final = re.search(r'\\[.*?\\]', row['deepseek'])\n",
        "    if final:\n",
        "        f = final.group().replace(\"\\\"\", \"'\")\n",
        "        ds_evaluation_df.loc[index, 'deepseek_final'] = f"
      ],
      "metadata": {
        "id": "nG8W9tetjHOT"
      },
      "execution_count": 145,
      "outputs": []
    },
    {
      "cell_type": "code",
      "source": [
        "ds_evaluation_df.loc[329, \"deepseek_final\"] = \"['disapproval']\"\n",
        "ds_evaluation_df[\"deepseek_final\"] = ds_evaluation_df[\"deepseek_final\"].apply(literal_eval)"
      ],
      "metadata": {
        "id": "fUhQ6qjrjMce"
      },
      "execution_count": 146,
      "outputs": []
    },
    {
      "cell_type": "code",
      "source": [
        "ds_evaluation_df = ds_evaluation_df.dropna(subset=[\"deepseek_final\"])"
      ],
      "metadata": {
        "id": "Qk9PmefTjOF6"
      },
      "execution_count": 147,
      "outputs": []
    },
    {
      "cell_type": "code",
      "source": [
        "unique_ds_answers = set()\n",
        "for evaluation in ds_evaluation_df[\"deepseek_final\"]:\n",
        "    unique_ds_answers = unique_ds_answers.union(set(evaluation))"
      ],
      "metadata": {
        "id": "Ty38eIDwjPbF"
      },
      "execution_count": 148,
      "outputs": []
    },
    {
      "cell_type": "code",
      "source": [
        "is_valid_label_map = {\n",
        "    label: label in EMOTION_TO_ID\n",
        "    for label in unique_ds_answers\n",
        "}"
      ],
      "metadata": {
        "id": "t33_pth_jSGM"
      },
      "execution_count": 149,
      "outputs": []
    },
    {
      "cell_type": "code",
      "source": [
        "ds_evaluation_df = ds_evaluation_df.loc[\n",
        "    ds_evaluation_df[\"deepseek_final\"].apply(\n",
        "        lambda labels: all((is_valid_label_map[label] for label in labels))\n",
        "    )\n",
        "]"
      ],
      "metadata": {
        "id": "daaQQUgzjT9s"
      },
      "execution_count": 150,
      "outputs": []
    },
    {
      "cell_type": "code",
      "source": [
        "def encode_one_hot(annotations: list[str]):\n",
        "    one_hot = np.zeros(len(ID_TO_EMOTION), dtype=\"bool\")\n",
        "    for emotion in annotations:\n",
        "        one_hot[EMOTION_TO_ID[emotion]] = 1\n",
        "    return one_hot"
      ],
      "metadata": {
        "id": "Ig8JFm5hjUyC"
      },
      "execution_count": 151,
      "outputs": []
    },
    {
      "cell_type": "code",
      "source": [
        "ds_evaluation_df[\"true_labels\"] = ds_evaluation_df[\"annotation\"].apply(encode_one_hot)\n",
        "ds_evaluation_df[\"ds_labels\"] = ds_evaluation_df[\"deepseek_final\"].apply(encode_one_hot)"
      ],
      "metadata": {
        "id": "cJDrBm4Fjcg1"
      },
      "execution_count": 152,
      "outputs": []
    },
    {
      "cell_type": "code",
      "source": [
        "accuracy = accuracy_score(\n",
        "    y_true=np.array(ds_evaluation_df[\"true_labels\"].tolist()),\n",
        "    y_pred=np.array(ds_evaluation_df[\"ds_labels\"].tolist()),\n",
        ")\n",
        "\n",
        "f1 = f1_score(\n",
        "    y_true=np.array(ds_evaluation_df[\"true_labels\"].tolist()),\n",
        "    y_pred=np.array(ds_evaluation_df[\"ds_labels\"].tolist()),\n",
        "    average='macro',\n",
        ")\n",
        "\n",
        "print(\"Accuracy:\", accuracy)\n",
        "print(\"F1 (macro):\", f1)"
      ],
      "metadata": {
        "colab": {
          "base_uri": "https://localhost:8080/"
        },
        "id": "9LuR4QB3jdST",
        "outputId": "0ad8664f-6e5e-4346-8e72-ea96478326ba"
      },
      "execution_count": 153,
      "outputs": [
        {
          "output_type": "stream",
          "name": "stdout",
          "text": [
            "Accuracy: 0.19700967458223395\n",
            "F1 (macro): 0.23437347705362196\n"
          ]
        }
      ]
    },
    {
      "cell_type": "code",
      "source": [
        "ev_df.loc[ev_df['task'] == 'goemoper0', ['accuracy', 'f1_macro']] = [\n",
        "  round(accuracy * 100, 2),\n",
        "  round(f1 * 100, 2)\n",
        "]\n",
        "ev_df.to_csv('deepseek_evaluation.csv', index=False)"
      ],
      "metadata": {
        "id": "dq3VDy41jpQi"
      },
      "execution_count": 154,
      "outputs": []
    },
    {
      "cell_type": "markdown",
      "source": [
        "##12.GoEmoPer1"
      ],
      "metadata": {
        "id": "D2-1Ok75jno1"
      }
    },
    {
      "cell_type": "code",
      "source": [
        "ds_evaluation_df = pd.read_excel('goemoper1.xlsx')"
      ],
      "metadata": {
        "id": "1sdaf3u-jmFV"
      },
      "execution_count": 226,
      "outputs": []
    },
    {
      "cell_type": "code",
      "source": [
        "labels_df = pd.read_csv('emotions.txt', header=None)\n",
        "ID_TO_EMOTION = dict(labels_df[0])\n",
        "EMOTION_TO_ID = {emotion: emotion_id for emotion_id, emotion in ID_TO_EMOTION.items()}"
      ],
      "metadata": {
        "id": "alyFeuwYj8mE"
      },
      "execution_count": 227,
      "outputs": []
    },
    {
      "cell_type": "code",
      "source": [
        "ds_evaluation_df[\"annotation\"] = ds_evaluation_df[\"annotation\"].apply(literal_eval)"
      ],
      "metadata": {
        "id": "sRmtvysLj9jt"
      },
      "execution_count": 228,
      "outputs": []
    },
    {
      "cell_type": "code",
      "source": [
        "ds_evaluation_df['deepseek_final'] = None\n",
        "for index, row in ds_evaluation_df.iterrows():\n",
        "    if isinstance(row['deepseek'], str):\n",
        "      final = re.search(r'\\[.*?\\]', row['deepseek'])\n",
        "      if final:\n",
        "          f = final.group().replace(\"\\\"\", \"'\")\n",
        "          ds_evaluation_df.loc[index, 'deepseek_final'] = f"
      ],
      "metadata": {
        "id": "eQmJHvudkCg3"
      },
      "execution_count": 229,
      "outputs": []
    },
    {
      "cell_type": "code",
      "source": [
        "ds_evaluation_df.loc[329, \"deepseek_final\"] = \"['disapproval']\"\n",
        "from ast import literal_eval\n",
        "\n",
        "def safe_literal_eval(val):\n",
        "    if isinstance(val, list):\n",
        "        return val\n",
        "    if isinstance(val, str):\n",
        "        try:\n",
        "            return literal_eval(val)\n",
        "        except:\n",
        "            return None\n",
        "    return None\n",
        "\n",
        "ds_evaluation_df[\"deepseek_final\"] = ds_evaluation_df[\"deepseek_final\"].apply(safe_literal_eval)\n"
      ],
      "metadata": {
        "id": "q9PLXm_wkC_V"
      },
      "execution_count": 230,
      "outputs": []
    },
    {
      "cell_type": "code",
      "source": [
        "ds_evaluation_df = ds_evaluation_df.dropna(subset=[\"deepseek_final\"])"
      ],
      "metadata": {
        "id": "Ln8_4m3fkF-N"
      },
      "execution_count": 231,
      "outputs": []
    },
    {
      "cell_type": "code",
      "source": [
        "unique_ds_answers = set()\n",
        "for evaluation in ds_evaluation_df[\"deepseek_final\"]:\n",
        "    unique_ds_answers = unique_ds_answers.union(set(evaluation))"
      ],
      "metadata": {
        "id": "KVO3nTnZkJ1d"
      },
      "execution_count": 232,
      "outputs": []
    },
    {
      "cell_type": "code",
      "source": [
        "is_valid_label_map = {\n",
        "    label: label in EMOTION_TO_ID\n",
        "    for label in unique_ds_answers\n",
        "}"
      ],
      "metadata": {
        "id": "C2Kv_Lb_kMqF"
      },
      "execution_count": 233,
      "outputs": []
    },
    {
      "cell_type": "code",
      "source": [
        "ds_evaluation_df = ds_evaluation_df.loc[\n",
        "    ds_evaluation_df[\"deepseek_final\"].apply(\n",
        "        lambda labels: all((is_valid_label_map[label] for label in labels))\n",
        "    )\n",
        "]"
      ],
      "metadata": {
        "id": "FOTnduBdkOOu"
      },
      "execution_count": 234,
      "outputs": []
    },
    {
      "cell_type": "code",
      "source": [
        "def encode_one_hot(annotations: list[str]):\n",
        "    one_hot = np.zeros(len(ID_TO_EMOTION), dtype=\"bool\")\n",
        "    for emotion in annotations:\n",
        "        one_hot[EMOTION_TO_ID[emotion]] = 1\n",
        "    return one_hot"
      ],
      "metadata": {
        "id": "oY8uiTewkP2N"
      },
      "execution_count": 235,
      "outputs": []
    },
    {
      "cell_type": "code",
      "source": [
        "ds_evaluation_df[\"true_labels\"] = ds_evaluation_df[\"annotation\"].apply(encode_one_hot)\n",
        "ds_evaluation_df[\"ds_labels\"] = ds_evaluation_df[\"deepseek_final\"].apply(encode_one_hot)"
      ],
      "metadata": {
        "id": "d84rqkRnkRdq"
      },
      "execution_count": 236,
      "outputs": []
    },
    {
      "cell_type": "code",
      "source": [
        "accuracy = accuracy_score(\n",
        "    y_true=np.array(ds_evaluation_df[\"true_labels\"].tolist()),\n",
        "    y_pred=np.array(ds_evaluation_df[\"ds_labels\"].tolist()),\n",
        ")\n",
        "\n",
        "f1 = f1_score(\n",
        "    y_true=np.array(ds_evaluation_df[\"true_labels\"].tolist()),\n",
        "    y_pred=np.array(ds_evaluation_df[\"ds_labels\"].tolist()),\n",
        "    average='macro',\n",
        ")\n",
        "\n",
        "print(\"Accuracy:\", accuracy)\n",
        "print(\"F1 (macro):\", f1)"
      ],
      "metadata": {
        "colab": {
          "base_uri": "https://localhost:8080/"
        },
        "id": "XoSyVhDokTEU",
        "outputId": "d0b45c71-d4bc-48f2-e8ed-673cbb09e990"
      },
      "execution_count": 237,
      "outputs": [
        {
          "output_type": "stream",
          "name": "stdout",
          "text": [
            "Accuracy: 0.19469026548672566\n",
            "F1 (macro): 0.2502515862839795\n"
          ]
        }
      ]
    },
    {
      "cell_type": "code",
      "source": [
        "ev_df.loc[ev_df['task'] == 'goemoper1', ['accuracy', 'f1_macro']] = [\n",
        "  round(accuracy * 100, 2),\n",
        "  round(f1 * 100, 2)\n",
        "]\n",
        "ev_df.to_csv('deepseek_evaluation.csv', index=False)"
      ],
      "metadata": {
        "id": "Zkej5FsNkU5Q"
      },
      "execution_count": 238,
      "outputs": []
    },
    {
      "cell_type": "markdown",
      "source": [
        "##13.GoEmoPer2"
      ],
      "metadata": {
        "id": "EwsksM_En7sY"
      }
    },
    {
      "cell_type": "code",
      "source": [
        "ds_evaluation_df = pd.read_excel('goemoper2.xlsx')"
      ],
      "metadata": {
        "id": "MdblESWyn97D"
      },
      "execution_count": 168,
      "outputs": []
    },
    {
      "cell_type": "code",
      "source": [
        "labels_df = pd.read_csv('emotions.txt', header=None)\n",
        "ID_TO_EMOTION = dict(labels_df[0])\n",
        "EMOTION_TO_ID = {emotion: emotion_id for emotion_id, emotion in ID_TO_EMOTION.items()}"
      ],
      "metadata": {
        "id": "71vK6DUJoBrJ"
      },
      "execution_count": 169,
      "outputs": []
    },
    {
      "cell_type": "code",
      "source": [
        "ds_evaluation_df[\"annotation\"] = ds_evaluation_df[\"annotation\"].apply(literal_eval)"
      ],
      "metadata": {
        "id": "I3PapfhjoBvF"
      },
      "execution_count": 170,
      "outputs": []
    },
    {
      "cell_type": "code",
      "source": [
        "ds_evaluation_df['deepseek_final'] = None\n",
        "for index, row in ds_evaluation_df.iterrows():\n",
        "    if isinstance(row['deepseek'], str):\n",
        "      final = re.search(r'\\[.*?\\]', row['deepseek'])\n",
        "      if final:\n",
        "          f = final.group().replace(\"\\\"\", \"'\")\n",
        "          ds_evaluation_df.loc[index, 'deepseek_final'] = f"
      ],
      "metadata": {
        "id": "OYUK9sVqoBwk"
      },
      "execution_count": 171,
      "outputs": []
    },
    {
      "cell_type": "code",
      "source": [
        "ds_evaluation_df.loc[329, \"deepseek_final\"] = \"['disapproval']\"\n",
        "from ast import literal_eval\n",
        "\n",
        "def safe_literal_eval(val):\n",
        "    if isinstance(val, list):\n",
        "        return val\n",
        "    if isinstance(val, str):\n",
        "        try:\n",
        "            return literal_eval(val)\n",
        "        except:\n",
        "            return None\n",
        "    return None\n",
        "\n",
        "ds_evaluation_df[\"deepseek_final\"] = ds_evaluation_df[\"deepseek_final\"].apply(safe_literal_eval)"
      ],
      "metadata": {
        "id": "WqjD4TQ9oBxp"
      },
      "execution_count": 172,
      "outputs": []
    },
    {
      "cell_type": "code",
      "source": [
        "ds_evaluation_df = ds_evaluation_df.dropna(subset=[\"deepseek_final\"])"
      ],
      "metadata": {
        "id": "HinP_nEwoBzx"
      },
      "execution_count": 173,
      "outputs": []
    },
    {
      "cell_type": "code",
      "source": [
        "unique_ds_answers = set()\n",
        "for evaluation in ds_evaluation_df[\"deepseek_final\"]:\n",
        "    unique_ds_answers = unique_ds_answers.union(set(evaluation))"
      ],
      "metadata": {
        "id": "RrlIryCkoB1y"
      },
      "execution_count": 174,
      "outputs": []
    },
    {
      "cell_type": "code",
      "source": [
        "is_valid_label_map = {\n",
        "    label: label in EMOTION_TO_ID\n",
        "    for label in unique_ds_answers\n",
        "}"
      ],
      "metadata": {
        "id": "b2pjjclcoB4I"
      },
      "execution_count": 175,
      "outputs": []
    },
    {
      "cell_type": "code",
      "source": [
        "ds_evaluation_df = ds_evaluation_df.loc[\n",
        "    ds_evaluation_df[\"deepseek_final\"].apply(\n",
        "        lambda labels: all((is_valid_label_map[label] for label in labels))\n",
        "    )\n",
        "]"
      ],
      "metadata": {
        "id": "4iN7CX_ToB6d"
      },
      "execution_count": 176,
      "outputs": []
    },
    {
      "cell_type": "code",
      "source": [
        "def encode_one_hot(annotations: list[str]):\n",
        "    one_hot = np.zeros(len(ID_TO_EMOTION), dtype=\"bool\")\n",
        "    for emotion in annotations:\n",
        "        one_hot[EMOTION_TO_ID[emotion]] = 1\n",
        "    return one_hot"
      ],
      "metadata": {
        "id": "mUL0UiCroOIa"
      },
      "execution_count": 177,
      "outputs": []
    },
    {
      "cell_type": "code",
      "source": [
        "ds_evaluation_df[\"true_labels\"] = ds_evaluation_df[\"annotation\"].apply(encode_one_hot)\n",
        "ds_evaluation_df[\"ds_labels\"] = ds_evaluation_df[\"deepseek_final\"].apply(encode_one_hot)"
      ],
      "metadata": {
        "id": "gNMKAsyNoP9c"
      },
      "execution_count": 178,
      "outputs": []
    },
    {
      "cell_type": "code",
      "source": [
        "accuracy = accuracy_score(\n",
        "    y_true=np.array(ds_evaluation_df[\"true_labels\"].tolist()),\n",
        "    y_pred=np.array(ds_evaluation_df[\"ds_labels\"].tolist()),\n",
        ")\n",
        "\n",
        "f1 = f1_score(\n",
        "    y_true=np.array(ds_evaluation_df[\"true_labels\"].tolist()),\n",
        "    y_pred=np.array(ds_evaluation_df[\"ds_labels\"].tolist()),\n",
        "    average='macro',\n",
        ")\n",
        "\n",
        "print(\"Accuracy:\", accuracy)\n",
        "print(\"F1 (macro):\", f1)"
      ],
      "metadata": {
        "colab": {
          "base_uri": "https://localhost:8080/"
        },
        "id": "CdyS4eXroRqC",
        "outputId": "9d50e49b-e59c-4550-ec6e-1ca67d299b76"
      },
      "execution_count": 179,
      "outputs": [
        {
          "output_type": "stream",
          "name": "stdout",
          "text": [
            "Accuracy: 0.1961301671064204\n",
            "F1 (macro): 0.2552321956235119\n"
          ]
        }
      ]
    },
    {
      "cell_type": "code",
      "source": [
        "ev_df.loc[ev_df['task'] == 'goemoper2', ['accuracy', 'f1_macro']] = [\n",
        "  round(accuracy * 100, 2),\n",
        "  round(f1 * 100, 2)\n",
        "]\n",
        "ev_df.to_csv('deepseek_evaluation.csv', index=False)"
      ],
      "metadata": {
        "id": "anXS9GMHpFDT"
      },
      "execution_count": 181,
      "outputs": []
    },
    {
      "cell_type": "markdown",
      "source": [
        "##14.GoemoPer3"
      ],
      "metadata": {
        "id": "_pyh2gbLoees"
      }
    },
    {
      "cell_type": "code",
      "source": [
        "ds_evaluation_df = pd.read_excel('goemoper3.xlsx')"
      ],
      "metadata": {
        "id": "EBYvAMisomMx"
      },
      "execution_count": 213,
      "outputs": []
    },
    {
      "cell_type": "code",
      "source": [
        "labels_df = pd.read_csv('emotions.txt', header=None)\n",
        "ID_TO_EMOTION = dict(labels_df[0])\n",
        "EMOTION_TO_ID = {emotion: emotion_id for emotion_id, emotion in ID_TO_EMOTION.items()}"
      ],
      "metadata": {
        "id": "YeIqiz7KomMy"
      },
      "execution_count": 214,
      "outputs": []
    },
    {
      "cell_type": "code",
      "source": [
        "ds_evaluation_df[\"annotation\"] = ds_evaluation_df[\"annotation\"].apply(literal_eval)"
      ],
      "metadata": {
        "id": "hQMaBomDomMy"
      },
      "execution_count": 215,
      "outputs": []
    },
    {
      "cell_type": "code",
      "source": [
        "ds_evaluation_df['deepseek_final'] = None\n",
        "for index, row in ds_evaluation_df.iterrows():\n",
        "    if isinstance(row['deepseek'], str):\n",
        "      final = re.search(r'\\[.*?\\]', row['deepseek'])\n",
        "      if final:\n",
        "          f = final.group().replace(\"\\\"\", \"'\")\n",
        "          ds_evaluation_df.loc[index, 'deepseek_final'] = f"
      ],
      "metadata": {
        "id": "albJyJzPomMy"
      },
      "execution_count": 216,
      "outputs": []
    },
    {
      "cell_type": "code",
      "source": [
        "ds_evaluation_df.loc[329, \"deepseek_final\"] = \"['disapproval']\"\n",
        "from ast import literal_eval\n",
        "\n",
        "def safe_literal_eval(val):\n",
        "    if isinstance(val, list):\n",
        "        return val\n",
        "    if isinstance(val, str):\n",
        "        try:\n",
        "            return literal_eval(val)\n",
        "        except:\n",
        "            return None\n",
        "    return None\n",
        "\n",
        "ds_evaluation_df[\"deepseek_final\"] = ds_evaluation_df[\"deepseek_final\"].apply(safe_literal_eval)"
      ],
      "metadata": {
        "id": "nx9EALrTomMy"
      },
      "execution_count": 217,
      "outputs": []
    },
    {
      "cell_type": "code",
      "source": [
        "ds_evaluation_df = ds_evaluation_df.dropna(subset=[\"deepseek_final\"])"
      ],
      "metadata": {
        "id": "HSEhZ5_AomMy"
      },
      "execution_count": 218,
      "outputs": []
    },
    {
      "cell_type": "code",
      "source": [
        "unique_ds_answers = set()\n",
        "for evaluation in ds_evaluation_df[\"deepseek_final\"]:\n",
        "    unique_ds_answers = unique_ds_answers.union(set(evaluation))"
      ],
      "metadata": {
        "id": "wImeC-iZomMy"
      },
      "execution_count": 219,
      "outputs": []
    },
    {
      "cell_type": "code",
      "source": [
        "is_valid_label_map = {\n",
        "    label: label in EMOTION_TO_ID\n",
        "    for label in unique_ds_answers\n",
        "}"
      ],
      "metadata": {
        "id": "8rKpBMgComMz"
      },
      "execution_count": 220,
      "outputs": []
    },
    {
      "cell_type": "code",
      "source": [
        "ds_evaluation_df = ds_evaluation_df.loc[\n",
        "    ds_evaluation_df[\"deepseek_final\"].apply(\n",
        "        lambda labels: all((is_valid_label_map[label] for label in labels))\n",
        "    )\n",
        "]"
      ],
      "metadata": {
        "id": "rMEFq42LomMz"
      },
      "execution_count": 221,
      "outputs": []
    },
    {
      "cell_type": "code",
      "source": [
        "def encode_one_hot(annotations: list[str]):\n",
        "    one_hot = np.zeros(len(ID_TO_EMOTION), dtype=\"bool\")\n",
        "    for emotion in annotations:\n",
        "        one_hot[EMOTION_TO_ID[emotion]] = 1\n",
        "    return one_hot"
      ],
      "metadata": {
        "id": "5M7OEU7EomMz"
      },
      "execution_count": 222,
      "outputs": []
    },
    {
      "cell_type": "code",
      "source": [
        "ds_evaluation_df[\"true_labels\"] = ds_evaluation_df[\"annotation\"].apply(encode_one_hot)\n",
        "ds_evaluation_df[\"ds_labels\"] = ds_evaluation_df[\"deepseek_final\"].apply(encode_one_hot)"
      ],
      "metadata": {
        "id": "0oTO2ZJromMz"
      },
      "execution_count": 223,
      "outputs": []
    },
    {
      "cell_type": "code",
      "source": [
        "accuracy = accuracy_score(\n",
        "    y_true=np.array(ds_evaluation_df[\"true_labels\"].tolist()),\n",
        "    y_pred=np.array(ds_evaluation_df[\"ds_labels\"].tolist()),\n",
        ")\n",
        "\n",
        "f1 = f1_score(\n",
        "    y_true=np.array(ds_evaluation_df[\"true_labels\"].tolist()),\n",
        "    y_pred=np.array(ds_evaluation_df[\"ds_labels\"].tolist()),\n",
        "    average='macro',\n",
        ")\n",
        "\n",
        "print(\"Accuracy:\", accuracy)\n",
        "print(\"F1 (macro):\", f1)"
      ],
      "metadata": {
        "colab": {
          "base_uri": "https://localhost:8080/"
        },
        "outputId": "0328767e-508f-4a91-b781-eec3f7694b46",
        "id": "WtoPwRNWomMz"
      },
      "execution_count": 224,
      "outputs": [
        {
          "output_type": "stream",
          "name": "stdout",
          "text": [
            "Accuracy: 0.18761061946902655\n",
            "F1 (macro): 0.2414172357091951\n"
          ]
        }
      ]
    },
    {
      "cell_type": "code",
      "source": [
        "ev_df.loc[ev_df['task'] == 'goemoper3', ['accuracy', 'f1_macro']] = [\n",
        "  round(accuracy * 100, 2),\n",
        "  round(f1 * 100, 2)\n",
        "]\n",
        "ev_df.to_csv('deepseek_evaluation.csv', index=False)"
      ],
      "metadata": {
        "id": "yNNPQzztpHX3"
      },
      "execution_count": 225,
      "outputs": []
    },
    {
      "cell_type": "markdown",
      "source": [
        "##15.Reading"
      ],
      "metadata": {
        "id": "z-wLkUqrqqrQ"
      }
    },
    {
      "cell_type": "code",
      "source": [
        "from sklearn.metrics import classification_report"
      ],
      "metadata": {
        "id": "lY4zrko1sdCP"
      },
      "execution_count": 239,
      "outputs": []
    },
    {
      "cell_type": "code",
      "source": [
        "df = pd.read_excel('https://github.com/ddariath/gpt_deepseek_evaluation/raw/refs/heads/main/deepseek_raw/reading.xlsx')"
      ],
      "metadata": {
        "id": "jeR3xdU7qsKs"
      },
      "execution_count": 240,
      "outputs": []
    },
    {
      "cell_type": "code",
      "source": [
        "df.loc[24, 'deepseek'] = 'A'\n",
        "df.loc[40, 'deepseek'] = 'C'\n",
        "df.loc[69, 'deepseek'] = 'C'\n",
        "df.loc[98, 'deepseek'] = 'D'\n",
        "df.loc[807, 'deepseek'] = 'None'\n",
        "df.loc[879, 'deepseek'] = 'A'\n",
        "df.loc[882, 'deepseek'] = 'D'\n",
        "df.loc[894, 'deepseek'] = 'B'\n",
        "df.loc[913, 'deepseek'] = 'D'\n",
        "df.loc[917, 'deepseek'] = 'D'\n",
        "df.loc[923, 'deepseek'] = 'None'\n",
        "df.loc[932, 'deepseek'] = 'None'\n",
        "df.loc[958, 'deepseek'] = 'D'\n",
        "df.loc[967, 'deepseek'] = 'None'\n",
        "df.loc[975, 'deepseek'] = 'D'"
      ],
      "metadata": {
        "id": "NTyHDak_q3p2"
      },
      "execution_count": 241,
      "outputs": []
    },
    {
      "cell_type": "code",
      "source": [
        "df_filtered = df[df.deepseek != 'None']"
      ],
      "metadata": {
        "id": "1ZzWaQvZsPIw"
      },
      "execution_count": 242,
      "outputs": []
    },
    {
      "cell_type": "code",
      "source": [
        "def evaluation(y_true, y_pred):\n",
        "    results = classification_report(y_true, y_pred, output_dict=True)\n",
        "    accuracy = results['accuracy']\n",
        "    macro_f1 = results['macro avg']['f1-score']\n",
        "    return accuracy, macro_f1\n"
      ],
      "metadata": {
        "id": "OHwnz_xVsP0q"
      },
      "execution_count": 243,
      "outputs": []
    },
    {
      "cell_type": "code",
      "source": [
        "y_true = df_filtered.annotation.apply(lambda x: \", \".join(sorted(x))).tolist()\n",
        "y_pred = df_filtered.deepseek.apply(lambda x: \", \".join(sorted(x))).tolist()"
      ],
      "metadata": {
        "id": "KfuWBNjOsR0U"
      },
      "execution_count": 244,
      "outputs": []
    },
    {
      "cell_type": "code",
      "source": [
        "accuracy, f1_macro = evaluation(y_true, y_pred)\n",
        "\n",
        "print(f\"Accuracy:\", accuracy)\n",
        "print(f\"Macro F1:\", f1_macro)"
      ],
      "metadata": {
        "colab": {
          "base_uri": "https://localhost:8080/"
        },
        "id": "0J6AyA19tKKi",
        "outputId": "5a61cada-274a-4f1f-d1b1-661a2d12ba56"
      },
      "execution_count": 246,
      "outputs": [
        {
          "output_type": "stream",
          "name": "stdout",
          "text": [
            "Accuracy: 0.9106425702811245\n",
            "Macro F1: 0.909927739116316\n"
          ]
        }
      ]
    },
    {
      "cell_type": "code",
      "source": [
        "ev_df.loc[ev_df['task'] == 'reading', ['accuracy', 'f1_macro']] = [\n",
        "  round(accuracy * 100, 2),\n",
        "  round(f1_macro * 100, 2)\n",
        "]\n",
        "ev_df.to_csv('deepseek_evaluation.csv', index=False)"
      ],
      "metadata": {
        "id": "SzPx1tBqt21L"
      },
      "execution_count": 247,
      "outputs": []
    },
    {
      "cell_type": "markdown",
      "source": [
        "## 16.Polemo"
      ],
      "metadata": {
        "id": "0Iw8LEBNuzg0"
      }
    },
    {
      "cell_type": "code",
      "source": [
        "import re\n",
        "from ast import literal_eval\n",
        "import pandas as pd\n",
        "from sklearn.metrics import f1_score"
      ],
      "metadata": {
        "id": "13NfiBgLu1me"
      },
      "execution_count": 286,
      "outputs": []
    },
    {
      "cell_type": "code",
      "source": [
        "df = pd.read_excel('https://github.com/ddariath/gpt_deepseek_evaluation/raw/refs/heads/main/deepseek_raw/polemo.xlsx')"
      ],
      "metadata": {
        "id": "NA9ouyKou5M5"
      },
      "execution_count": 287,
      "outputs": []
    },
    {
      "cell_type": "code",
      "source": [
        "options = 'pozytywny, negatywny, neutralny, ambiwalentny'.split(', ')"
      ],
      "metadata": {
        "id": "gmv6Z-Esu60R"
      },
      "execution_count": 288,
      "outputs": []
    },
    {
      "cell_type": "code",
      "source": [
        "for idx, evaluation in enumerate(df[\"deepseek\"]):\n",
        "    try:\n",
        "      literal_eval(evaluation)\n",
        "    except Exception:\n",
        "      #print(idx, evaluation)\n",
        "      try:\n",
        "        m = re.search(r'\\[.*?\\]', evaluation)\n",
        "        m = m.group()\n",
        "        m = m[1:-1].split(', ')\n",
        "        df.loc[idx, \"deepseek\"] = str(m)\n",
        "      except:\n",
        "        print(idx, evaluation)"
      ],
      "metadata": {
        "colab": {
          "base_uri": "https://localhost:8080/"
        },
        "collapsed": true,
        "id": "IItIjt2nu865",
        "outputId": "896bd40c-da8d-40a6-a639-7e2a3be283ff"
      },
      "execution_count": 289,
      "outputs": [
        {
          "output_type": "stream",
          "name": "stdout",
          "text": [
            "155 negatywny\n",
            "211  Porównywane też były wyniki tych badań pod kątem sezonowości zmian . Aby zaś rozgraniczyć wpływ zanieczyszczeń np . od czynników alergenowych ( roztocza , kurz , pyłki roślin ) , obserwacje prowadzono tylko w miesiącach zimowych . W tym czasie bowiem dzięki ogrzewaniu domów do powietrza dostaje się mnóstwo szkodliwych substancji , takich jak benzo ( a ) piren , sadza czy tlenki siarki i azotu .\n",
            "273 goraco polecam za to chirurga ze szpitala w ostrodzie doktorant w Gorzowie oraz rehabilitanta tegoz tez z szpitala w ostrodzie tego dodam ze nie ma do kogo sie o\n",
            "307 negatywny\n",
            "325 nan\n",
            "357 nan\n",
            "406  Po raz kolejny okazuje się , że status w programie lojalnościowym nie ma żadnego znaczenia . Już od 2 tygodni czekam na korektę faktury .\n",
            "448 nan\n",
            "475 ambitwalentny\n",
            "510 nan\n",
            "548 ambiwalentny\n",
            "551 nan\n",
            "556 i wydać receptę.\n",
            "560 dostosowanie się do możliwości (studentów)\"negatywny\n",
            "564 nan\n",
            "581 nan\n",
            "643 negatywny\n",
            "647  Klinika ok , ale mogłby być lepszy dostęp do lekarza ambiwalentny\n",
            "678 nan\n",
            "735 nan\n",
            "795 nan\n",
            "814 pozytywny\n"
          ]
        }
      ]
    },
    {
      "cell_type": "code",
      "source": [
        "df.loc[155, 'deepseek'] = \"['negatywny']\"\n",
        "df.loc[211, 'deepseek'] = \"None\"\n",
        "df.loc[273, 'deepseek'] = \"None\"\n",
        "df.loc[307, 'deepseek'] = \"['negatywny']\"\n",
        "df.loc[325, 'deepseek'] = \"None\"\n",
        "df.loc[357, 'deepseek'] = \"None\"\n",
        "df.loc[406, 'deepseek'] = \"None\"\n",
        "df.loc[448, 'deepseek'] = \"None\"\n",
        "df.loc[475, 'deepseek'] = \"['ambitwalentny']\"\n",
        "df.loc[510, 'deepseek'] = \"None\"\n",
        "df.loc[548, 'deepseek'] = \"['ambitwalentny']\"\n",
        "df.loc[551, 'deepseek'] = \"None\"\n",
        "df.loc[556, 'deepseek'] = \"None\"\n",
        "df.loc[560, 'deepseek'] = \"['negatywny']\"\n",
        "df.loc[564, 'deepseek'] = \"None\"\n",
        "df.loc[581, 'deepseek'] = \"None\"\n",
        "df.loc[643, 'deepseek'] = \"['negatywny']\"\n",
        "df.loc[647, 'deepseek'] = \"['ambitwalentny']\"\n",
        "df.loc[678, 'deepseek'] = \"None\"\n",
        "df.loc[735, 'deepseek'] = \"None\"\n",
        "df.loc[795, 'deepseek'] = \"None\"\n",
        "df.loc[814, 'deepseek'] = \"['pozytywny']\""
      ],
      "metadata": {
        "id": "HlcrsjEiu-nx"
      },
      "execution_count": 290,
      "outputs": []
    },
    {
      "cell_type": "code",
      "source": [
        "set(df[\"deepseek\"].tolist())"
      ],
      "metadata": {
        "colab": {
          "base_uri": "https://localhost:8080/"
        },
        "collapsed": true,
        "id": "9BoL4oklvC1z",
        "outputId": "2d2010d5-ee6e-4de8-f653-8e7fb12378b9"
      },
      "execution_count": 291,
      "outputs": [
        {
          "output_type": "execute_result",
          "data": {
            "text/plain": [
              "{'\\n\\n[\"ambiwalentny\"]',\n",
              " '\\n[\"pozytywny\"]',\n",
              " \"\\n['negatywny']\",\n",
              " \" \\n\\n['ambiwalentny']\",\n",
              " \" \\n\\n['negatywny']\",\n",
              " \" \\n\\n['neutralny']\",\n",
              " \" \\n\\n['pozytywny']\",\n",
              " \"  \\n\\n['negatywny']\",\n",
              " \"  \\n\\n['pozytywny']\",\n",
              " ' [\"ambiwalentny\"]',\n",
              " ' [\"negatywny\"]',\n",
              " ' [\"pozytywny\"]',\n",
              " 'None',\n",
              " '[\"\\'ambiwalentny\\'\"]',\n",
              " '[\"\\'negatywny\\'\"]',\n",
              " '[\"\\'neutral\\'\"]',\n",
              " '[\"\\'neutralny\\'\"]',\n",
              " '[\"\\'pozytywny\\'\"]',\n",
              " '[\"ambiwalentny\"]',\n",
              " '[\"negatywny\"]',\n",
              " '[\"pozytywny\", \"negatywny\", \"neutralny\", \"ambiwalentny\"]',\n",
              " '[\"pozytywny\"]',\n",
              " '[\\' \"ambiwalentny\" \\']',\n",
              " '[\\'\"ambiwalentny\"\\']',\n",
              " '[\\'\"negatywny\"\\']',\n",
              " '[\\'\"neutralny\"\\']',\n",
              " '[\\'\"pozytywny\"\\', \\'\"negatywny\"\\']',\n",
              " '[\\'\"pozytywny\"\\']',\n",
              " \"['_negatywny']\",\n",
              " \"['`negatywny`']\",\n",
              " \"['ambitwalentny']\",\n",
              " \"['ambiwalentny']\",\n",
              " \"['dodatnia']\",\n",
              " \"['negatywny']\",\n",
              " \"['neutral']\",\n",
              " \"['neutralny']\",\n",
              " \"['pozytywny']\",\n",
              " \"[['negatywny']]\"}"
            ]
          },
          "metadata": {},
          "execution_count": 291
        }
      ]
    },
    {
      "cell_type": "code",
      "source": [
        "final_map_ds = {\n",
        "    '\\n\\n[\"ambiwalentny\"]': 'ambiwalentny',\n",
        " '\\n[\"pozytywny\"]': 'pozytywny',\n",
        " \"\\n['negatywny']\": 'negatywny',\n",
        " \" \\n\\n['ambiwalentny']\": 'ambiwalentny',\n",
        " \" \\n\\n['negatywny']\": 'negatywny',\n",
        " \" \\n\\n['neutralny']\": 'neutralny',\n",
        " \" \\n\\n['pozytywny']\": 'pozytywny',\n",
        " \"  \\n\\n['negatywny']\": 'negatywny',\n",
        " \"  \\n\\n['pozytywny']\": 'pozytywny',\n",
        " ' [\"ambiwalentny\"]': 'ambiwalentny',\n",
        " ' [\"negatywny\"]': 'negatywny',\n",
        " ' [\"pozytywny\"]': 'pozytywny',\n",
        " 'None': 'None',\n",
        " '[\"\\'ambiwalentny\\'\"]': 'ambiwalentny',\n",
        " '[\"\\'negatywny\\'\"]': 'negatywny',\n",
        " '[\"\\'neutral\\'\"]': 'neutralny',\n",
        " '[\"\\'neutralny\\'\"]': 'neutralny',\n",
        " '[\"\\'pozytywny\\'\"]': 'pozytywny',\n",
        " '[\"ambiwalentny\"]': 'ambiwalentny',\n",
        " '[\"negatywny\"]': 'negatywny',\n",
        " '[\"pozytywny\", \"negatywny\", \"neutralny\", \"ambiwalentny\"]': 'None',\n",
        " '[\"pozytywny\"]': 'pozytywny',\n",
        " '[\\' \"ambiwalentny\" \\']': 'ambiwalentny',\n",
        " '[\\'\"ambiwalentny\"\\']': 'ambiwalentny',\n",
        " '[\\'\"negatywny\"\\']': 'negatywny',\n",
        " '[\\'\"neutralny\"\\']': 'neutralny',\n",
        " '[\\'\"pozytywny\"\\', \\'\"negatywny\"\\']': 'None',\n",
        " '[\\'\"pozytywny\"\\']': 'pozytywny',\n",
        " \"['_negatywny']\": 'negatywny',\n",
        " \"['`negatywny`']\": 'negatywny',\n",
        " \"['ambitwalentny']\": 'ambiwalentny',\n",
        " \"['ambiwalentny']\": 'ambiwalentny',\n",
        " \"['dodatnia']\": 'None',\n",
        " \"['negatywny']\": 'negatywny',\n",
        " \"['neutral']\": 'neutralny',\n",
        " \"['neutralny']\": 'neutralny',\n",
        " \"['pozytywny']\": 'pozytywny',\n",
        " \"[['negatywny']]\": 'negatywny'\n",
        "}"
      ],
      "metadata": {
        "id": "a5kHEQXTvE5_"
      },
      "execution_count": 292,
      "outputs": []
    },
    {
      "cell_type": "code",
      "source": [
        "df[\"deepseek\"] = df[\"deepseek\"].apply(lambda x: final_map_ds[x])"
      ],
      "metadata": {
        "id": "s6RUzIx7vHJm"
      },
      "execution_count": 293,
      "outputs": []
    },
    {
      "cell_type": "code",
      "source": [
        "df_filtered = df[df.deepseek != 'None']"
      ],
      "metadata": {
        "id": "SZrfXNoivK0P"
      },
      "execution_count": 294,
      "outputs": []
    },
    {
      "cell_type": "code",
      "source": [
        "gold = df_filtered[\"annotation\"].tolist()\n",
        "system = df_filtered[\"deepseek\"].tolist()"
      ],
      "metadata": {
        "id": "_TiC8a7DvMcp"
      },
      "execution_count": 295,
      "outputs": []
    },
    {
      "cell_type": "code",
      "source": [
        "f1_macro = f1_score(gold, system, average='macro')\n",
        "accuracy = f1_score(gold, system, average='micro')\n",
        "\n",
        "print(f\"Accuracy:\", accuracy)\n",
        "print(f\"Macro F1:\", f1_macro)"
      ],
      "metadata": {
        "colab": {
          "base_uri": "https://localhost:8080/"
        },
        "id": "H_6mArnsvORW",
        "outputId": "eb768b82-eaff-4d52-fa6d-f9821c3938e0"
      },
      "execution_count": 299,
      "outputs": [
        {
          "output_type": "stream",
          "name": "stdout",
          "text": [
            "Accuracy: 0.775840597758406\n",
            "Macro F1: 0.6682117448130658\n"
          ]
        }
      ]
    },
    {
      "cell_type": "code",
      "source": [
        "ev_df.loc[ev_df['task'] == 'polemo', ['accuracy', 'f1_macro']] = [\n",
        "  round(accuracy * 100, 2),\n",
        "  round(f1_macro * 100, 2)\n",
        "]\n",
        "ev_df.to_csv('deepseek_evaluation.csv', index=False)"
      ],
      "metadata": {
        "id": "yGZjWNuR0aXW"
      },
      "execution_count": 300,
      "outputs": []
    },
    {
      "cell_type": "markdown",
      "source": [
        "##17.WordContext"
      ],
      "metadata": {
        "id": "k5l7wPTl0nhY"
      }
    },
    {
      "cell_type": "code",
      "source": [
        "import pandas as pd\n",
        "import numpy as np"
      ],
      "metadata": {
        "id": "0UzNxilE0rAW"
      },
      "execution_count": 301,
      "outputs": []
    },
    {
      "cell_type": "code",
      "source": [
        "df = pd.read_excel('https://github.com/ddariath/gpt_deepseek_evaluation/raw/refs/heads/main/deepseek_raw/wordcontext.xlsx')"
      ],
      "metadata": {
        "id": "_QMxFqzp0tTR"
      },
      "execution_count": 302,
      "outputs": []
    },
    {
      "cell_type": "code",
      "source": [
        "df = df[df['split'] == 'dev']"
      ],
      "metadata": {
        "id": "3ukjmXqrErKE"
      },
      "execution_count": 303,
      "outputs": []
    },
    {
      "cell_type": "code",
      "source": [
        "for index, evaluation in enumerate(df['deepseek']):\n",
        "  if evaluation not in ['T', 'F']:\n",
        "    print(index, evaluation)"
      ],
      "metadata": {
        "colab": {
          "base_uri": "https://localhost:8080/"
        },
        "id": "EQK0Yyc7E68s",
        "outputId": "bb50e7b5-cfb5-48b4-a7e6-057ef407abb0"
      },
      "execution_count": 304,
      "outputs": [
        {
          "output_type": "stream",
          "name": "stdout",
          "text": [
            "352 T correct answer is: \"T\"\n"
          ]
        }
      ]
    },
    {
      "cell_type": "code",
      "source": [
        "df.loc[352, 'deepseek'] = 'T'"
      ],
      "metadata": {
        "id": "ZvmsDSZlFJTb"
      },
      "execution_count": 305,
      "outputs": []
    },
    {
      "cell_type": "code",
      "source": [
        "df['deepseek'] = df['deepseek'].astype(str)"
      ],
      "metadata": {
        "id": "npQSOokHFdiy"
      },
      "execution_count": 306,
      "outputs": []
    },
    {
      "cell_type": "code",
      "source": [
        "df['label'].value_counts()"
      ],
      "metadata": {
        "colab": {
          "base_uri": "https://localhost:8080/",
          "height": 178
        },
        "id": "Ud5zAgMDCkyy",
        "outputId": "d19e9794-8aef-47ce-8f7b-1e970f85274f"
      },
      "execution_count": 307,
      "outputs": [
        {
          "output_type": "execute_result",
          "data": {
            "text/plain": [
              "label\n",
              "F    319\n",
              "T    319\n",
              "Name: count, dtype: int64"
            ],
            "text/html": [
              "<div>\n",
              "<style scoped>\n",
              "    .dataframe tbody tr th:only-of-type {\n",
              "        vertical-align: middle;\n",
              "    }\n",
              "\n",
              "    .dataframe tbody tr th {\n",
              "        vertical-align: top;\n",
              "    }\n",
              "\n",
              "    .dataframe thead th {\n",
              "        text-align: right;\n",
              "    }\n",
              "</style>\n",
              "<table border=\"1\" class=\"dataframe\">\n",
              "  <thead>\n",
              "    <tr style=\"text-align: right;\">\n",
              "      <th></th>\n",
              "      <th>count</th>\n",
              "    </tr>\n",
              "    <tr>\n",
              "      <th>label</th>\n",
              "      <th></th>\n",
              "    </tr>\n",
              "  </thead>\n",
              "  <tbody>\n",
              "    <tr>\n",
              "      <th>F</th>\n",
              "      <td>319</td>\n",
              "    </tr>\n",
              "    <tr>\n",
              "      <th>T</th>\n",
              "      <td>319</td>\n",
              "    </tr>\n",
              "  </tbody>\n",
              "</table>\n",
              "</div><br><label><b>dtype:</b> int64</label>"
            ]
          },
          "metadata": {},
          "execution_count": 307
        }
      ]
    },
    {
      "cell_type": "code",
      "source": [
        "LABEL_MAP = {\n",
        "    \"T\": 1,\n",
        "    \"F\": 0,\n",
        "}\n",
        "\n",
        "gold_labels = [LABEL_MAP[val] for val in df.label.values]\n",
        "ds_preds = [LABEL_MAP[val] for val in df.deepseek.values]"
      ],
      "metadata": {
        "id": "8c3FBTTRGnBJ"
      },
      "execution_count": 308,
      "outputs": []
    },
    {
      "cell_type": "code",
      "source": [
        "from sklearn.metrics import classification_report\n",
        "\n",
        "report_lines = classification_report(y_true=gold_labels, y_pred=ds_preds, digits=4).split('\\n')\n",
        "\n",
        "for line in report_lines:\n",
        "  print(line)"
      ],
      "metadata": {
        "colab": {
          "base_uri": "https://localhost:8080/"
        },
        "id": "MGt8yux-G2gg",
        "outputId": "03b82693-7160-4800-ed58-9cff9de552c7"
      },
      "execution_count": 309,
      "outputs": [
        {
          "output_type": "stream",
          "name": "stdout",
          "text": [
            "              precision    recall  f1-score   support\n",
            "\n",
            "           0     0.5842    0.9248    0.7160       319\n",
            "           1     0.8195    0.3417    0.4823       319\n",
            "\n",
            "    accuracy                         0.6332       638\n",
            "   macro avg     0.7019    0.6332    0.5992       638\n",
            "weighted avg     0.7019    0.6332    0.5992       638\n",
            "\n"
          ]
        }
      ]
    },
    {
      "cell_type": "code",
      "source": [
        "report = classification_report(y_true=gold_labels, y_pred=ds_preds, digits=4, output_dict=True)\n",
        "\n",
        "accuracy = report['accuracy']\n",
        "f1_macro = report['macro avg']['f1-score']\n",
        "\n",
        "print(\"Accuracy:\", accuracy)\n",
        "print(\"Macro F1:\", f1_macro)"
      ],
      "metadata": {
        "colab": {
          "base_uri": "https://localhost:8080/"
        },
        "id": "S58gwE8G1J32",
        "outputId": "a8197e44-e889-4750-eaa2-06f3ec617bea"
      },
      "execution_count": 313,
      "outputs": [
        {
          "output_type": "stream",
          "name": "stdout",
          "text": [
            "Accuracy: 0.6332288401253918\n",
            "Macro F1: 0.5991601512157402\n"
          ]
        }
      ]
    },
    {
      "cell_type": "code",
      "source": [
        "ev_df.loc[ev_df['task'] == 'wordcontext', ['accuracy', 'f1_macro']] = [\n",
        "  round(accuracy * 100, 2),\n",
        "  round(f1_macro * 100, 2)\n",
        "]\n",
        "ev_df.to_csv('deepseek_evaluation.csv', index=False)"
      ],
      "metadata": {
        "id": "ZHfKGAMs1vW-"
      },
      "execution_count": 314,
      "outputs": []
    },
    {
      "cell_type": "markdown",
      "source": [
        "##18.TweetSent"
      ],
      "metadata": {
        "id": "npyIa0qT2TfH"
      }
    },
    {
      "cell_type": "code",
      "source": [
        "import pandas as pd\n",
        "from sklearn.metrics import classification_report\n",
        "import re\n",
        "from ast import literal_eval"
      ],
      "metadata": {
        "id": "zFjfdF81-01W"
      },
      "execution_count": 433,
      "outputs": []
    },
    {
      "cell_type": "code",
      "execution_count": 434,
      "metadata": {
        "id": "2oJtpkJ2hICs"
      },
      "outputs": [],
      "source": [
        "df = pd.read_excel('https://github.com/ddariath/gpt_deepseek_evaluation/raw/refs/heads/main/deepseek_raw/tweetsent.xlsx')"
      ]
    },
    {
      "cell_type": "code",
      "execution_count": 435,
      "metadata": {
        "id": "cP2S_yvxiG01"
      },
      "outputs": [],
      "source": [
        "df[\"deepseek_final\"] = \"None\""
      ]
    },
    {
      "cell_type": "code",
      "execution_count": 436,
      "metadata": {
        "id": "P7bUt-tCiLqG"
      },
      "outputs": [],
      "source": [
        "for index, evaluation in enumerate(df[\"deepseek\"]):\n",
        "    try:\n",
        "        literal_eval(str(evaluation))\n",
        "    except Exception:\n",
        "        try:\n",
        "            m = re.search(r'\\d', str(evaluation))\n",
        "            m = m.group()\n",
        "            df.loc[index, 'deepseek'] = m\n",
        "        except Exception:\n",
        "            df.loc[index, 'deepseek'] = 'None'"
      ]
    },
    {
      "cell_type": "code",
      "execution_count": 437,
      "metadata": {
        "id": "5hqQw4opuH05"
      },
      "outputs": [],
      "source": [
        "def to_int(value):\n",
        "    try:\n",
        "        res = round(float(value))\n",
        "        if res in [1, 2, 0]:\n",
        "            return res\n",
        "        else:\n",
        "            return \"None\"\n",
        "    except Exception:\n",
        "        return \"None\""
      ]
    },
    {
      "cell_type": "code",
      "source": [
        "df['deepseek'] = df['deepseek'].apply(to_int)"
      ],
      "metadata": {
        "id": "R6Ez6tEeC73S"
      },
      "execution_count": 438,
      "outputs": []
    },
    {
      "cell_type": "code",
      "source": [
        "df = df[df['deepseek'] != \"None\"]\n",
        "df['annotation'] = df['annotation'].astype(int)\n",
        "df['deepseek'] = df['deepseek'].astype(int)"
      ],
      "metadata": {
        "colab": {
          "base_uri": "https://localhost:8080/"
        },
        "collapsed": true,
        "id": "QvLPUbu6_OpJ",
        "outputId": "9c8dfd12-bfe0-4fcf-d02c-0020d612cc4e"
      },
      "execution_count": 439,
      "outputs": [
        {
          "output_type": "stream",
          "name": "stderr",
          "text": [
            "<ipython-input-439-951643ca40a2>:2: SettingWithCopyWarning: \n",
            "A value is trying to be set on a copy of a slice from a DataFrame.\n",
            "Try using .loc[row_indexer,col_indexer] = value instead\n",
            "\n",
            "See the caveats in the documentation: https://pandas.pydata.org/pandas-docs/stable/user_guide/indexing.html#returning-a-view-versus-a-copy\n",
            "  df['annotation'] = df['annotation'].astype(int)\n",
            "<ipython-input-439-951643ca40a2>:3: SettingWithCopyWarning: \n",
            "A value is trying to be set on a copy of a slice from a DataFrame.\n",
            "Try using .loc[row_indexer,col_indexer] = value instead\n",
            "\n",
            "See the caveats in the documentation: https://pandas.pydata.org/pandas-docs/stable/user_guide/indexing.html#returning-a-view-versus-a-copy\n",
            "  df['deepseek'] = df['deepseek'].astype(int)\n"
          ]
        }
      ]
    },
    {
      "cell_type": "code",
      "source": [
        "df_clean = df.copy()"
      ],
      "metadata": {
        "id": "3YvDWVVt_OsK"
      },
      "execution_count": 440,
      "outputs": []
    },
    {
      "cell_type": "code",
      "source": [
        "def evaluation(df: pd.DataFrame, y_col: str):\n",
        "    results = classification_report(\n",
        "        df[\"annotation\"],\n",
        "        df[y_col],\n",
        "        labels=[0,1,2],\n",
        "        output_dict=True\n",
        "    )\n",
        "    accuracy = results['accuracy']\n",
        "    macro_f1 = results['macro avg']['f1-score']\n",
        "    return accuracy, macro_f1, results"
      ],
      "metadata": {
        "id": "vir4_zHQ_SRb"
      },
      "execution_count": 441,
      "outputs": []
    },
    {
      "cell_type": "code",
      "source": [
        "accuracy, f1_macro, results = evaluation(df_clean, y_col=\"deepseek\")\n",
        "\n",
        "print(\"Accuracy:\", accuracy)\n",
        "print(\"Macro F1:\", f1_macro)"
      ],
      "metadata": {
        "colab": {
          "base_uri": "https://localhost:8080/"
        },
        "id": "U8IA9ydn9Gwj",
        "outputId": "4b5ec693-ff3c-42fa-fbdf-de569118621d"
      },
      "execution_count": 442,
      "outputs": [
        {
          "output_type": "stream",
          "name": "stdout",
          "text": [
            "Accuracy: 0.5986984815618221\n",
            "Macro F1: 0.5892705855483159\n"
          ]
        }
      ]
    },
    {
      "cell_type": "code",
      "source": [
        "ev_df.loc[ev_df['task'] == 'tweetsent', ['accuracy', 'f1_macro']] = [\n",
        "  round(accuracy * 100, 2),\n",
        "  round(f1_macro * 100, 2)\n",
        "]\n",
        "ev_df.to_csv('deepseek_evaluation.csv', index=False)"
      ],
      "metadata": {
        "id": "ifKBpf7w_sCs"
      },
      "execution_count": 443,
      "outputs": []
    },
    {
      "cell_type": "markdown",
      "source": [
        "##19.TweetEmoji"
      ],
      "metadata": {
        "id": "Yjgmmjmx_90K"
      }
    },
    {
      "cell_type": "code",
      "execution_count": 447,
      "metadata": {
        "id": "bf776572"
      },
      "outputs": [],
      "source": [
        "import ast\n",
        "import json\n",
        "import numpy as np\n",
        "import pandas as pd\n",
        "import pathlib\n",
        "#import swifter\n",
        "import re\n",
        "from ast import literal_eval\n",
        "from sklearn.metrics import accuracy_score, f1_score"
      ]
    },
    {
      "cell_type": "code",
      "source": [
        "DATA_DIR = pathlib.Path(\"data\")\n",
        "EMOJI_MAPPING = {\n",
        "    \"❤\": 0,\n",
        "    \"😍\": 1,\n",
        "    \"😂\": 2,\n",
        "    \"💕\": 3,\n",
        "    \"🔥\": 4,\n",
        "    \"😊\": 5,\n",
        "    \"😎\": 6,\n",
        "    \"✨\": 7,\n",
        "    \"💙\": 8,\n",
        "    \"😘\": 9,\n",
        "    \"📷\": 10,\n",
        "    \"🇺🇸\": 11,\n",
        "    \"☀\": 12,\n",
        "    \"💜\": 13,\n",
        "    \"😉\": 14,\n",
        "    \"💯\": 15,\n",
        "    \"😁\": 16,\n",
        "    \"🎄\": 17,\n",
        "    \"📸\": 18,\n",
        "    \"😜\": 19\n",
        "}"
      ],
      "metadata": {
        "id": "ju5o5HB5AKAH"
      },
      "execution_count": 448,
      "outputs": []
    },
    {
      "cell_type": "code",
      "source": [
        "df = pd.read_excel('https://github.com/ddariath/gpt_deepseek_evaluation/raw/refs/heads/main/deepseek_raw/tweetemoji.xlsx')"
      ],
      "metadata": {
        "id": "FabMRHP2aTmg"
      },
      "execution_count": 450,
      "outputs": []
    },
    {
      "cell_type": "code",
      "source": [
        "df[\"deepseek_final\"] = 'None'"
      ],
      "metadata": {
        "id": "ISEPE00XauZZ"
      },
      "execution_count": 451,
      "outputs": []
    },
    {
      "cell_type": "code",
      "source": [
        "for idx, evaluation in enumerate(df[\"deepseek\"]):\n",
        "    try:\n",
        "      ast.literal_eval(evaluation)\n",
        "    except Exception:\n",
        "      try:\n",
        "        m = re.search(r'\\[.*?\\]', evaluation)\n",
        "        m = m.group()\n",
        "        #m = m[1:-1].split(', ')\n",
        "        df.loc[idx, \"deepseek\"] = m\n",
        "        print(m)\n",
        "      except:\n",
        "        print('Ошибка', idx, evaluation)"
      ],
      "metadata": {
        "colab": {
          "base_uri": "https://localhost:8080/"
        },
        "id": "rnCEcNUja02l",
        "outputId": "e5ae713c-fcec-454a-e75a-442cda720043"
      },
      "execution_count": 452,
      "outputs": [
        {
          "output_type": "stream",
          "name": "stdout",
          "text": [
            "[2,0,1]\n",
            "[9, 3, 5]\n",
            "[3, 0, 9]\n",
            "[0, 1, 2]\n",
            "[4, 6, 15]\n",
            "[0, 1, 2]\n"
          ]
        }
      ]
    },
    {
      "cell_type": "code",
      "execution_count": 458,
      "metadata": {
        "id": "5629b2db"
      },
      "outputs": [],
      "source": [
        "def get_results(df: pd.DataFrame) -> pd.DataFrame:\n",
        "    #df[\"chatgpt_final\"] = df[\"chatgpt_final\"].swifter.apply(lambda x: ast.literal_eval(x))\n",
        "    df[\"deepseek_final\"] = df[\"deepseek\"].apply(literal_eval)\n",
        "\n",
        "    y_true = df[\"annotation\"].to_numpy()\n",
        "\n",
        "    ds_answer = df[\"deepseek_final\"].to_list()\n",
        "    y_pred_top1 = np.array([answer[0] for answer in ds_answer])\n",
        "    y_pred_top3 = np.array(\n",
        "        [\n",
        "            y_true[i] if y_true[i] in answer else answer[0]\n",
        "            for i, answer in enumerate(ds_answer)\n",
        "        ]\n",
        "    )\n",
        "\n",
        "    f1_macro = f1_score(y_true=y_true, y_pred=y_pred_top1, average=\"macro\")\n",
        "    f1_micro = f1_score(y_true=y_true, y_pred=y_pred_top1, average=\"micro\")\n",
        "    acc_top1 = accuracy_score(y_true=y_true, y_pred=y_pred_top1)\n",
        "    acc_top3 = accuracy_score(y_true=y_true, y_pred=y_pred_top3)\n",
        "\n",
        "    return acc_top1, f1_macro"
      ]
    },
    {
      "cell_type": "code",
      "execution_count": 462,
      "metadata": {
        "id": "21f3c1a5",
        "outputId": "92b9b19e-c7a3-4481-f057-16288a7db9bb",
        "colab": {
          "base_uri": "https://localhost:8080/"
        }
      },
      "outputs": [
        {
          "output_type": "stream",
          "name": "stdout",
          "text": [
            "Accuracy: 0.2734375\n",
            "Macro F1: 0.206987998306092\n"
          ]
        }
      ],
      "source": [
        "df = df.drop(df[df[\"chatgpt_final\"] == \"[-1]\"].index)\n",
        "accuracy, f1_macro = get_results(df)\n",
        "\n",
        "print(\"Accuracy:\", accuracy)\n",
        "print(\"Macro F1:\", f1_macro)"
      ]
    },
    {
      "cell_type": "code",
      "source": [
        "ev_df.loc[ev_df['task'] == 'tweetemoji', ['accuracy', 'f1_macro']] = [\n",
        "  round(accuracy * 100, 2),\n",
        "  round(f1_macro * 100, 2)\n",
        "]\n",
        "ev_df.to_csv('deepseek_evaluation.csv', index=False)"
      ],
      "metadata": {
        "id": "Y-fqryTEBXS3"
      },
      "execution_count": 463,
      "outputs": []
    },
    {
      "cell_type": "markdown",
      "source": [
        "##20. WNLI"
      ],
      "metadata": {
        "id": "noU3mhBKB4Od"
      }
    },
    {
      "cell_type": "code",
      "execution_count": 475,
      "metadata": {
        "id": "ipRPBjcRkV5G"
      },
      "outputs": [],
      "source": [
        "import pandas as pd\n",
        "import numpy as np"
      ]
    },
    {
      "cell_type": "code",
      "source": [
        "df = pd.read_excel('https://github.com/ddariath/gpt_deepseek_evaluation/raw/refs/heads/main/deepseek_raw/wnli2.xlsx')"
      ],
      "metadata": {
        "id": "qmc_uN__LIHM"
      },
      "execution_count": 476,
      "outputs": []
    },
    {
      "cell_type": "code",
      "source": [
        "df = df[df['split'] == 'dev']"
      ],
      "metadata": {
        "id": "5HmuR277Lb29"
      },
      "execution_count": 477,
      "outputs": []
    },
    {
      "cell_type": "code",
      "source": [
        "df['deepseek'] = df['deepseek'].apply(round)"
      ],
      "metadata": {
        "id": "IckyrMNbLqNk"
      },
      "execution_count": 478,
      "outputs": []
    },
    {
      "cell_type": "code",
      "source": [
        "df['deepseek'] = df['deepseek'].astype(int)\n",
        "df['label'] = df['label'].astype(int)\n",
        "\n",
        "gold_labels = df.label.values\n",
        "deepseek_preds = df.deepseek.values"
      ],
      "metadata": {
        "id": "-qVC7U1gfyDI"
      },
      "execution_count": 479,
      "outputs": []
    },
    {
      "cell_type": "code",
      "source": [
        "from sklearn.metrics import classification_report\n",
        "\n",
        "report_lines = classification_report(y_true=gold_labels, y_pred=deepseek_preds, digits=4, output_dict=True)\n",
        "\n",
        "accuracy = report_lines['accuracy']\n",
        "f1_macro = report_lines['macro avg']['f1-score']\n",
        "\n",
        "print(\"Accuracy:\", accuracy)\n",
        "print(\"Macro F1:\", f1_macro)"
      ],
      "metadata": {
        "colab": {
          "base_uri": "https://localhost:8080/"
        },
        "id": "Sf4oHv9ggOTe",
        "outputId": "5a76a537-54ad-4a30-9142-88c7cbc9e9cf"
      },
      "execution_count": 480,
      "outputs": [
        {
          "output_type": "stream",
          "name": "stdout",
          "text": [
            "Accuracy: 0.8873239436619719\n",
            "Macro F1: 0.8862179487179487\n"
          ]
        }
      ]
    },
    {
      "cell_type": "code",
      "source": [
        "ev_df.loc[ev_df['task'] == 'wnli', ['accuracy', 'f1_macro']] = [\n",
        "  round(accuracy * 100, 2),\n",
        "  round(f1_macro * 100, 2)\n",
        "]\n",
        "ev_df.to_csv('deepseek_evaluation.csv', index=False)"
      ],
      "metadata": {
        "id": "D3x2WbBLCkA1"
      },
      "execution_count": 481,
      "outputs": []
    },
    {
      "cell_type": "markdown",
      "source": [
        "GPT4"
      ],
      "metadata": {
        "id": "__6fHYbgDFTh"
      }
    },
    {
      "cell_type": "code",
      "source": [
        "df['gpt4'] = df['gpt4'].apply(round)"
      ],
      "metadata": {
        "id": "6caYreI9DPpm"
      },
      "execution_count": 483,
      "outputs": []
    },
    {
      "cell_type": "code",
      "source": [
        "df['gpt4'] = df['gpt4'].astype(int)\n",
        "df['label'] = df['label'].astype(int)\n",
        "\n",
        "gold_labels = df.label.values\n",
        "gpt4_preds = df.gpt4.values"
      ],
      "metadata": {
        "id": "TvOzHpW3DPpo"
      },
      "execution_count": 486,
      "outputs": []
    },
    {
      "cell_type": "code",
      "source": [
        "from sklearn.metrics import classification_report\n",
        "\n",
        "report_lines = classification_report(y_true=gold_labels, y_pred=gpt4_preds, digits=4, output_dict=True)\n",
        "\n",
        "accuracy = report_lines['accuracy']\n",
        "f1_macro = report_lines['macro avg']['f1-score']\n",
        "\n",
        "print(\"Accuracy:\", accuracy)\n",
        "print(\"Macro F1:\", f1_macro)"
      ],
      "metadata": {
        "colab": {
          "base_uri": "https://localhost:8080/"
        },
        "outputId": "956d7e33-e5f8-4d82-b5f9-a7f1d452ca4c",
        "id": "5mseZL-yDPpo"
      },
      "execution_count": 487,
      "outputs": [
        {
          "output_type": "stream",
          "name": "stdout",
          "text": [
            "Accuracy: 0.8732394366197183\n",
            "Macro F1: 0.8706739526411658\n"
          ]
        }
      ]
    },
    {
      "cell_type": "code",
      "source": [
        "ev_df.loc[ev_df['task'] == 'wnli', ['accuracy_gpt4', 'f1_macro_gpt4']] = [\n",
        "  round(accuracy * 100, 2),\n",
        "  round(f1_macro * 100, 2)\n",
        "]\n",
        "ev_df.to_csv('deepseek_evaluation.csv', index=False)"
      ],
      "metadata": {
        "id": "H0tMQPVqDPpp"
      },
      "execution_count": 488,
      "outputs": []
    },
    {
      "cell_type": "markdown",
      "source": [
        "GPT3_5"
      ],
      "metadata": {
        "id": "-ae2FVqHEFJc"
      }
    },
    {
      "cell_type": "code",
      "source": [
        "df['gpt3_5'] = df['gpt3_5'].apply(round)"
      ],
      "metadata": {
        "id": "sctRk55JEFJf"
      },
      "execution_count": 489,
      "outputs": []
    },
    {
      "cell_type": "code",
      "source": [
        "df['gpt3_5'] = df['gpt3_5'].astype(int)\n",
        "df['label'] = df['label'].astype(int)\n",
        "\n",
        "gold_labels = df.label.values\n",
        "gpt3_5_preds = df.gpt3_5.values"
      ],
      "metadata": {
        "id": "wmd_By12EFJf"
      },
      "execution_count": 490,
      "outputs": []
    },
    {
      "cell_type": "code",
      "source": [
        "from sklearn.metrics import classification_report\n",
        "\n",
        "report_lines = classification_report(y_true=gold_labels, y_pred=gpt3_5_preds, digits=4, output_dict=True)\n",
        "\n",
        "accuracy = report_lines['accuracy']\n",
        "f1_macro = report_lines['macro avg']['f1-score']\n",
        "\n",
        "print(\"Accuracy:\", accuracy)\n",
        "print(\"Macro F1:\", f1_macro)"
      ],
      "metadata": {
        "colab": {
          "base_uri": "https://localhost:8080/"
        },
        "outputId": "ffafac25-a7d1-456b-fe45-7a188d0253da",
        "id": "EFmdWtqxEFJg"
      },
      "execution_count": 491,
      "outputs": [
        {
          "output_type": "stream",
          "name": "stdout",
          "text": [
            "Accuracy: 0.6197183098591549\n",
            "Macro F1: 0.5935976256094976\n"
          ]
        }
      ]
    },
    {
      "cell_type": "code",
      "source": [
        "ev_df.loc[ev_df['task'] == 'wnli', ['accuracy_gpt3_5', 'f1_macro_gpt3_5']] = [\n",
        "  round(accuracy * 100, 2),\n",
        "  round(f1_macro * 100, 2)\n",
        "]\n",
        "ev_df.to_csv('deepseek_evaluation.csv', index=False)"
      ],
      "metadata": {
        "id": "7NIZz_plEFJg"
      },
      "execution_count": 492,
      "outputs": []
    },
    {
      "cell_type": "markdown",
      "source": [
        "##21.MathQA"
      ],
      "metadata": {
        "id": "EjOpPHkAEkAS"
      }
    },
    {
      "cell_type": "markdown",
      "source": [
        "## MathQA evaluation"
      ],
      "metadata": {
        "id": "3B1S0Pq1adrS"
      }
    },
    {
      "cell_type": "code",
      "source": [
        "import pandas as pd\n",
        "from sklearn.metrics import accuracy_score, f1_score\n",
        "import re\n",
        "from ast import literal_eval"
      ],
      "metadata": {
        "id": "qcuhIwgeGw6c"
      },
      "execution_count": null,
      "outputs": []
    },
    {
      "cell_type": "code",
      "source": [
        "df = pd.read_excel('https://github.com/ddariath/gpt_deepseek_evaluation/raw/refs/heads/main/deepseek_raw/mathqa2.xlsx')"
      ],
      "metadata": {
        "id": "H8QGsl0cGyBS"
      },
      "execution_count": 510,
      "outputs": []
    },
    {
      "cell_type": "code",
      "source": [
        "df['deepseek_final'] = 'None'"
      ],
      "metadata": {
        "id": "zJc5RrzzIxdq"
      },
      "execution_count": 511,
      "outputs": []
    },
    {
      "cell_type": "code",
      "source": [
        "for index, row in df.iterrows():\n",
        "  a = row['deepseek']\n",
        "  if \"Answer:\" in a:\n",
        "    try:\n",
        "      a = re.sub(r'\\n', ' ', a)\n",
        "      a = re.sub(r'\\*\\*', '', a)\n",
        "      a = re.split(r'Answer:', a)[-1]\n",
        "      res = re.search(r'[\\d\\.\\,]+', a)\n",
        "      ans = res.group()\n",
        "      ans = re.sub(r',', '', ans)\n",
        "      if '.' in ans:\n",
        "        ans = ans.split('.')[0]\n",
        "      df.loc[index, 'deepseek_final'] = ans\n",
        "    except:\n",
        "      df.loc[index, 'deepseek_final'] = \"None\""
      ],
      "metadata": {
        "id": "J73MVSQ5IzgV"
      },
      "execution_count": 512,
      "outputs": []
    },
    {
      "cell_type": "code",
      "source": [
        "df_filtered = df[df.deepseek_final != 'None']"
      ],
      "metadata": {
        "id": "r3boCJl5I1ep"
      },
      "execution_count": 513,
      "outputs": []
    },
    {
      "cell_type": "code",
      "source": [
        "gold = df_filtered[\"expected_res\"].tolist()\n",
        "system = df_filtered[\"deepseek_final\"].tolist()"
      ],
      "metadata": {
        "id": "o36XuhXzI2uJ"
      },
      "execution_count": 514,
      "outputs": []
    },
    {
      "cell_type": "code",
      "source": [
        "gold = list(map(str, gold))\n",
        "system = list(map(str, system))"
      ],
      "metadata": {
        "id": "lUkjx4xtI4h9"
      },
      "execution_count": 515,
      "outputs": []
    },
    {
      "cell_type": "code",
      "source": [
        "f1_macro = f1_score(gold, system, average='macro')\n",
        "accuracy = accuracy_score(gold, system)\n",
        "\n",
        "print(\"Accuracy:\", accuracy)\n",
        "print(\"Macro F1:\", f1_macro)"
      ],
      "metadata": {
        "colab": {
          "base_uri": "https://localhost:8080/"
        },
        "id": "v2zW3ssKI56z",
        "outputId": "b64df069-f801-4856-b6c7-56a3f54f921a"
      },
      "execution_count": 516,
      "outputs": [
        {
          "output_type": "stream",
          "name": "stdout",
          "text": [
            "Accuracy: 0.9590163934426229\n",
            "Macro F1: 0.9183024837321901\n"
          ]
        }
      ]
    },
    {
      "cell_type": "code",
      "source": [
        "ev_df.loc[ev_df['task'] == 'mathqa', ['accuracy', 'f1_macro']] = [\n",
        "  round(accuracy * 100, 2),\n",
        "  round(f1_macro * 100, 2)\n",
        "]\n",
        "ev_df.to_csv('deepseek_evaluation.csv', index=False)"
      ],
      "metadata": {
        "id": "dLxfZ7OWKa-B"
      },
      "execution_count": 535,
      "outputs": []
    },
    {
      "cell_type": "markdown",
      "source": [
        "model - openai/gpt-4.1"
      ],
      "metadata": {
        "id": "2sp9hBLqJIu_"
      }
    },
    {
      "cell_type": "code",
      "source": [
        "df['gpt_final'] = 'None'"
      ],
      "metadata": {
        "id": "8VLBguV-Jfas"
      },
      "execution_count": 529,
      "outputs": []
    },
    {
      "cell_type": "code",
      "source": [
        "for index, row in df.iterrows():\n",
        "  a = row['gpt']\n",
        "  if \"Answer:\" in a:\n",
        "    try:\n",
        "      a = re.sub(r'\\n', ' ', a)\n",
        "      a = re.sub(r'\\*\\*', '', a)\n",
        "      a = re.split(r'Answer:', a)[-1]\n",
        "      res = re.search(r'[\\d\\.\\,]+', a)\n",
        "      ans = res.group()\n",
        "      ans = re.sub(r',', '', ans)\n",
        "      if '.' in ans:\n",
        "        ans = ans.split('.')[0]\n",
        "      df.loc[index, 'gpt_final'] = ans\n",
        "    except:\n",
        "      df.loc[index, 'gpt_final'] = \"None\""
      ],
      "metadata": {
        "id": "2l9rpfziJfav"
      },
      "execution_count": 530,
      "outputs": []
    },
    {
      "cell_type": "code",
      "source": [
        "df_filtered = df[df.gpt_final != 'None']"
      ],
      "metadata": {
        "id": "jGxjDkvQJfav"
      },
      "execution_count": 531,
      "outputs": []
    },
    {
      "cell_type": "code",
      "source": [
        "gold = df_filtered[\"expected_res\"].tolist()\n",
        "system = df_filtered[\"gpt_final\"].tolist()"
      ],
      "metadata": {
        "id": "7xzNFyf0Jfav"
      },
      "execution_count": 532,
      "outputs": []
    },
    {
      "cell_type": "code",
      "source": [
        "gold = list(map(str, gold))\n",
        "system = list(map(str, system))"
      ],
      "metadata": {
        "id": "Bh-BIUntJfav"
      },
      "execution_count": 533,
      "outputs": []
    },
    {
      "cell_type": "code",
      "source": [
        "f1_macro = f1_score(gold, system, average='macro')\n",
        "accuracy = accuracy_score(gold, system)\n",
        "\n",
        "print(\"Accuracy:\", accuracy)\n",
        "print(\"Macro F1:\", f1_macro)"
      ],
      "metadata": {
        "colab": {
          "base_uri": "https://localhost:8080/"
        },
        "outputId": "4bdb2649-5f2d-4893-b436-98e1e61a08ee",
        "id": "lzVrm9-OJfav"
      },
      "execution_count": 534,
      "outputs": [
        {
          "output_type": "stream",
          "name": "stdout",
          "text": [
            "Accuracy: 0.959\n",
            "Macro F1: 0.905427456227366\n"
          ]
        }
      ]
    },
    {
      "cell_type": "markdown",
      "source": [
        "##22.TweetStance"
      ],
      "metadata": {
        "id": "emPRn-D3KyPX"
      }
    },
    {
      "cell_type": "code",
      "source": [
        "import pandas as pd\n",
        "from pathlib import Path\n",
        "from sklearn.metrics import classification_report\n",
        "\n",
        "import seaborn as sns\n",
        "from scipy.stats import entropy\n",
        "from collections import Counter"
      ],
      "metadata": {
        "id": "6nOCdC8IK0qo"
      },
      "execution_count": 561,
      "outputs": []
    },
    {
      "cell_type": "code",
      "source": [
        "df = pd.read_excel('https://github.com/ddariath/gpt_deepseek_evaluation/raw/refs/heads/main/deepseek_raw/tweetstance.xlsx')"
      ],
      "metadata": {
        "id": "KlIhFwQNK9WG"
      },
      "execution_count": 563,
      "outputs": []
    },
    {
      "cell_type": "code",
      "source": [
        "TOPICS = [\n",
        "    \"abortion\",\n",
        "    \"atheism\",\n",
        "    \"climate\",\n",
        "    \"feminist\",\n",
        "    \"hillary\",\n",
        "]\n",
        "\n",
        "MAPPING = {\n",
        "    0: \"none\",\n",
        "    1: \"against\",\n",
        "    2: \"favor\"\n",
        "}\n",
        "\n",
        "RESULTS = [\"0\", \"1\", \"2\"]"
      ],
      "metadata": {
        "id": "u-SWWHqNK4jT"
      },
      "execution_count": 564,
      "outputs": []
    },
    {
      "cell_type": "code",
      "source": [
        "def evaluation(df_stats: pd.DataFrame, y_col: str = \"deepseek\"):\n",
        "    try:\n",
        "        results = classification_report(df_stats[\"annotation\"], df_stats[y_col].astype(int), output_dict=True)\n",
        "\n",
        "        f1_against = results['1']['f1-score']\n",
        "        f1_favor = results['2']['f1-score']\n",
        "        tweeteval_result = (f1_against+f1_favor) / 2\n",
        "\n",
        "    except Exception as ex:\n",
        "        print(f\"Issues with task: {ex}\")\n",
        "\n",
        "    return tweeteval_result, results"
      ],
      "metadata": {
        "id": "z5EL32FdK5DN"
      },
      "execution_count": 565,
      "outputs": []
    },
    {
      "cell_type": "code",
      "source": [
        "df = df[df[\"deepseek\"].isin([0, 1, 2])]"
      ],
      "metadata": {
        "id": "kQOnhVA3LG_Q"
      },
      "execution_count": 574,
      "outputs": []
    },
    {
      "cell_type": "code",
      "source": [
        "result, results = evaluation(df)"
      ],
      "metadata": {
        "id": "09-Gx6hXLHvz"
      },
      "execution_count": 570,
      "outputs": []
    },
    {
      "cell_type": "code",
      "source": [
        "pd.DataFrame(results).transpose()"
      ],
      "metadata": {
        "colab": {
          "base_uri": "https://localhost:8080/",
          "height": 238
        },
        "id": "MmuG4SDeLH4T",
        "outputId": "60cbc5bd-0dc8-4eb7-c2af-b9d78aba4fb8"
      },
      "execution_count": 571,
      "outputs": [
        {
          "output_type": "execute_result",
          "data": {
            "text/plain": [
              "              precision    recall  f1-score      support\n",
              "0              0.507614  0.438596  0.470588   228.000000\n",
              "1              0.770468  0.739130  0.754474   713.000000\n",
              "2              0.623626  0.746711  0.679641   304.000000\n",
              "accuracy       0.685944  0.685944  0.685944     0.685944\n",
              "macro avg      0.633903  0.641479  0.634901  1245.000000\n",
              "weighted avg   0.686476  0.685944  0.684213  1245.000000"
            ],
            "text/html": [
              "\n",
              "  <div id=\"df-89f8cb61-215f-4a66-b4d6-3e2844e87b90\" class=\"colab-df-container\">\n",
              "    <div>\n",
              "<style scoped>\n",
              "    .dataframe tbody tr th:only-of-type {\n",
              "        vertical-align: middle;\n",
              "    }\n",
              "\n",
              "    .dataframe tbody tr th {\n",
              "        vertical-align: top;\n",
              "    }\n",
              "\n",
              "    .dataframe thead th {\n",
              "        text-align: right;\n",
              "    }\n",
              "</style>\n",
              "<table border=\"1\" class=\"dataframe\">\n",
              "  <thead>\n",
              "    <tr style=\"text-align: right;\">\n",
              "      <th></th>\n",
              "      <th>precision</th>\n",
              "      <th>recall</th>\n",
              "      <th>f1-score</th>\n",
              "      <th>support</th>\n",
              "    </tr>\n",
              "  </thead>\n",
              "  <tbody>\n",
              "    <tr>\n",
              "      <th>0</th>\n",
              "      <td>0.507614</td>\n",
              "      <td>0.438596</td>\n",
              "      <td>0.470588</td>\n",
              "      <td>228.000000</td>\n",
              "    </tr>\n",
              "    <tr>\n",
              "      <th>1</th>\n",
              "      <td>0.770468</td>\n",
              "      <td>0.739130</td>\n",
              "      <td>0.754474</td>\n",
              "      <td>713.000000</td>\n",
              "    </tr>\n",
              "    <tr>\n",
              "      <th>2</th>\n",
              "      <td>0.623626</td>\n",
              "      <td>0.746711</td>\n",
              "      <td>0.679641</td>\n",
              "      <td>304.000000</td>\n",
              "    </tr>\n",
              "    <tr>\n",
              "      <th>accuracy</th>\n",
              "      <td>0.685944</td>\n",
              "      <td>0.685944</td>\n",
              "      <td>0.685944</td>\n",
              "      <td>0.685944</td>\n",
              "    </tr>\n",
              "    <tr>\n",
              "      <th>macro avg</th>\n",
              "      <td>0.633903</td>\n",
              "      <td>0.641479</td>\n",
              "      <td>0.634901</td>\n",
              "      <td>1245.000000</td>\n",
              "    </tr>\n",
              "    <tr>\n",
              "      <th>weighted avg</th>\n",
              "      <td>0.686476</td>\n",
              "      <td>0.685944</td>\n",
              "      <td>0.684213</td>\n",
              "      <td>1245.000000</td>\n",
              "    </tr>\n",
              "  </tbody>\n",
              "</table>\n",
              "</div>\n",
              "    <div class=\"colab-df-buttons\">\n",
              "\n",
              "  <div class=\"colab-df-container\">\n",
              "    <button class=\"colab-df-convert\" onclick=\"convertToInteractive('df-89f8cb61-215f-4a66-b4d6-3e2844e87b90')\"\n",
              "            title=\"Convert this dataframe to an interactive table.\"\n",
              "            style=\"display:none;\">\n",
              "\n",
              "  <svg xmlns=\"http://www.w3.org/2000/svg\" height=\"24px\" viewBox=\"0 -960 960 960\">\n",
              "    <path d=\"M120-120v-720h720v720H120Zm60-500h600v-160H180v160Zm220 220h160v-160H400v160Zm0 220h160v-160H400v160ZM180-400h160v-160H180v160Zm440 0h160v-160H620v160ZM180-180h160v-160H180v160Zm440 0h160v-160H620v160Z\"/>\n",
              "  </svg>\n",
              "    </button>\n",
              "\n",
              "  <style>\n",
              "    .colab-df-container {\n",
              "      display:flex;\n",
              "      gap: 12px;\n",
              "    }\n",
              "\n",
              "    .colab-df-convert {\n",
              "      background-color: #E8F0FE;\n",
              "      border: none;\n",
              "      border-radius: 50%;\n",
              "      cursor: pointer;\n",
              "      display: none;\n",
              "      fill: #1967D2;\n",
              "      height: 32px;\n",
              "      padding: 0 0 0 0;\n",
              "      width: 32px;\n",
              "    }\n",
              "\n",
              "    .colab-df-convert:hover {\n",
              "      background-color: #E2EBFA;\n",
              "      box-shadow: 0px 1px 2px rgba(60, 64, 67, 0.3), 0px 1px 3px 1px rgba(60, 64, 67, 0.15);\n",
              "      fill: #174EA6;\n",
              "    }\n",
              "\n",
              "    .colab-df-buttons div {\n",
              "      margin-bottom: 4px;\n",
              "    }\n",
              "\n",
              "    [theme=dark] .colab-df-convert {\n",
              "      background-color: #3B4455;\n",
              "      fill: #D2E3FC;\n",
              "    }\n",
              "\n",
              "    [theme=dark] .colab-df-convert:hover {\n",
              "      background-color: #434B5C;\n",
              "      box-shadow: 0px 1px 3px 1px rgba(0, 0, 0, 0.15);\n",
              "      filter: drop-shadow(0px 1px 2px rgba(0, 0, 0, 0.3));\n",
              "      fill: #FFFFFF;\n",
              "    }\n",
              "  </style>\n",
              "\n",
              "    <script>\n",
              "      const buttonEl =\n",
              "        document.querySelector('#df-89f8cb61-215f-4a66-b4d6-3e2844e87b90 button.colab-df-convert');\n",
              "      buttonEl.style.display =\n",
              "        google.colab.kernel.accessAllowed ? 'block' : 'none';\n",
              "\n",
              "      async function convertToInteractive(key) {\n",
              "        const element = document.querySelector('#df-89f8cb61-215f-4a66-b4d6-3e2844e87b90');\n",
              "        const dataTable =\n",
              "          await google.colab.kernel.invokeFunction('convertToInteractive',\n",
              "                                                    [key], {});\n",
              "        if (!dataTable) return;\n",
              "\n",
              "        const docLinkHtml = 'Like what you see? Visit the ' +\n",
              "          '<a target=\"_blank\" href=https://colab.research.google.com/notebooks/data_table.ipynb>data table notebook</a>'\n",
              "          + ' to learn more about interactive tables.';\n",
              "        element.innerHTML = '';\n",
              "        dataTable['output_type'] = 'display_data';\n",
              "        await google.colab.output.renderOutput(dataTable, element);\n",
              "        const docLink = document.createElement('div');\n",
              "        docLink.innerHTML = docLinkHtml;\n",
              "        element.appendChild(docLink);\n",
              "      }\n",
              "    </script>\n",
              "  </div>\n",
              "\n",
              "\n",
              "<div id=\"df-8d19d7de-8731-49f8-8767-6f9f611faea5\">\n",
              "  <button class=\"colab-df-quickchart\" onclick=\"quickchart('df-8d19d7de-8731-49f8-8767-6f9f611faea5')\"\n",
              "            title=\"Suggest charts\"\n",
              "            style=\"display:none;\">\n",
              "\n",
              "<svg xmlns=\"http://www.w3.org/2000/svg\" height=\"24px\"viewBox=\"0 0 24 24\"\n",
              "     width=\"24px\">\n",
              "    <g>\n",
              "        <path d=\"M19 3H5c-1.1 0-2 .9-2 2v14c0 1.1.9 2 2 2h14c1.1 0 2-.9 2-2V5c0-1.1-.9-2-2-2zM9 17H7v-7h2v7zm4 0h-2V7h2v10zm4 0h-2v-4h2v4z\"/>\n",
              "    </g>\n",
              "</svg>\n",
              "  </button>\n",
              "\n",
              "<style>\n",
              "  .colab-df-quickchart {\n",
              "      --bg-color: #E8F0FE;\n",
              "      --fill-color: #1967D2;\n",
              "      --hover-bg-color: #E2EBFA;\n",
              "      --hover-fill-color: #174EA6;\n",
              "      --disabled-fill-color: #AAA;\n",
              "      --disabled-bg-color: #DDD;\n",
              "  }\n",
              "\n",
              "  [theme=dark] .colab-df-quickchart {\n",
              "      --bg-color: #3B4455;\n",
              "      --fill-color: #D2E3FC;\n",
              "      --hover-bg-color: #434B5C;\n",
              "      --hover-fill-color: #FFFFFF;\n",
              "      --disabled-bg-color: #3B4455;\n",
              "      --disabled-fill-color: #666;\n",
              "  }\n",
              "\n",
              "  .colab-df-quickchart {\n",
              "    background-color: var(--bg-color);\n",
              "    border: none;\n",
              "    border-radius: 50%;\n",
              "    cursor: pointer;\n",
              "    display: none;\n",
              "    fill: var(--fill-color);\n",
              "    height: 32px;\n",
              "    padding: 0;\n",
              "    width: 32px;\n",
              "  }\n",
              "\n",
              "  .colab-df-quickchart:hover {\n",
              "    background-color: var(--hover-bg-color);\n",
              "    box-shadow: 0 1px 2px rgba(60, 64, 67, 0.3), 0 1px 3px 1px rgba(60, 64, 67, 0.15);\n",
              "    fill: var(--button-hover-fill-color);\n",
              "  }\n",
              "\n",
              "  .colab-df-quickchart-complete:disabled,\n",
              "  .colab-df-quickchart-complete:disabled:hover {\n",
              "    background-color: var(--disabled-bg-color);\n",
              "    fill: var(--disabled-fill-color);\n",
              "    box-shadow: none;\n",
              "  }\n",
              "\n",
              "  .colab-df-spinner {\n",
              "    border: 2px solid var(--fill-color);\n",
              "    border-color: transparent;\n",
              "    border-bottom-color: var(--fill-color);\n",
              "    animation:\n",
              "      spin 1s steps(1) infinite;\n",
              "  }\n",
              "\n",
              "  @keyframes spin {\n",
              "    0% {\n",
              "      border-color: transparent;\n",
              "      border-bottom-color: var(--fill-color);\n",
              "      border-left-color: var(--fill-color);\n",
              "    }\n",
              "    20% {\n",
              "      border-color: transparent;\n",
              "      border-left-color: var(--fill-color);\n",
              "      border-top-color: var(--fill-color);\n",
              "    }\n",
              "    30% {\n",
              "      border-color: transparent;\n",
              "      border-left-color: var(--fill-color);\n",
              "      border-top-color: var(--fill-color);\n",
              "      border-right-color: var(--fill-color);\n",
              "    }\n",
              "    40% {\n",
              "      border-color: transparent;\n",
              "      border-right-color: var(--fill-color);\n",
              "      border-top-color: var(--fill-color);\n",
              "    }\n",
              "    60% {\n",
              "      border-color: transparent;\n",
              "      border-right-color: var(--fill-color);\n",
              "    }\n",
              "    80% {\n",
              "      border-color: transparent;\n",
              "      border-right-color: var(--fill-color);\n",
              "      border-bottom-color: var(--fill-color);\n",
              "    }\n",
              "    90% {\n",
              "      border-color: transparent;\n",
              "      border-bottom-color: var(--fill-color);\n",
              "    }\n",
              "  }\n",
              "</style>\n",
              "\n",
              "  <script>\n",
              "    async function quickchart(key) {\n",
              "      const quickchartButtonEl =\n",
              "        document.querySelector('#' + key + ' button');\n",
              "      quickchartButtonEl.disabled = true;  // To prevent multiple clicks.\n",
              "      quickchartButtonEl.classList.add('colab-df-spinner');\n",
              "      try {\n",
              "        const charts = await google.colab.kernel.invokeFunction(\n",
              "            'suggestCharts', [key], {});\n",
              "      } catch (error) {\n",
              "        console.error('Error during call to suggestCharts:', error);\n",
              "      }\n",
              "      quickchartButtonEl.classList.remove('colab-df-spinner');\n",
              "      quickchartButtonEl.classList.add('colab-df-quickchart-complete');\n",
              "    }\n",
              "    (() => {\n",
              "      let quickchartButtonEl =\n",
              "        document.querySelector('#df-8d19d7de-8731-49f8-8767-6f9f611faea5 button');\n",
              "      quickchartButtonEl.style.display =\n",
              "        google.colab.kernel.accessAllowed ? 'block' : 'none';\n",
              "    })();\n",
              "  </script>\n",
              "</div>\n",
              "\n",
              "    </div>\n",
              "  </div>\n"
            ],
            "application/vnd.google.colaboratory.intrinsic+json": {
              "type": "dataframe",
              "summary": "{\n  \"name\": \"pd\",\n  \"rows\": 6,\n  \"fields\": [\n    {\n      \"column\": \"precision\",\n      \"properties\": {\n        \"dtype\": \"number\",\n        \"std\": 0.08758147075629848,\n        \"min\": 0.5076142131979695,\n        \"max\": 0.77046783625731,\n        \"num_unique_values\": 6,\n        \"samples\": [\n          0.5076142131979695,\n          0.77046783625731,\n          0.68647552244419\n        ],\n        \"semantic_type\": \"\",\n        \"description\": \"\"\n      }\n    },\n    {\n      \"column\": \"recall\",\n      \"properties\": {\n        \"dtype\": \"number\",\n        \"std\": 0.11349619050862533,\n        \"min\": 0.43859649122807015,\n        \"max\": 0.7467105263157895,\n        \"num_unique_values\": 5,\n        \"samples\": [\n          0.7391304347826086,\n          0.6414791507754894,\n          0.7467105263157895\n        ],\n        \"semantic_type\": \"\",\n        \"description\": \"\"\n      }\n    },\n    {\n      \"column\": \"f1-score\",\n      \"properties\": {\n        \"dtype\": \"number\",\n        \"std\": 0.09659866411717512,\n        \"min\": 0.47058823529411764,\n        \"max\": 0.7544738725841088,\n        \"num_unique_values\": 6,\n        \"samples\": [\n          0.47058823529411764,\n          0.7544738725841088,\n          0.6842126644519213\n        ],\n        \"semantic_type\": \"\",\n        \"description\": \"\"\n      }\n    },\n    {\n      \"column\": \"support\",\n      \"properties\": {\n        \"dtype\": \"number\",\n        \"std\": 534.2149178184848,\n        \"min\": 0.6859437751004016,\n        \"max\": 1245.0,\n        \"num_unique_values\": 5,\n        \"samples\": [\n          713.0,\n          1245.0,\n          304.0\n        ],\n        \"semantic_type\": \"\",\n        \"description\": \"\"\n      }\n    }\n  ]\n}"
            }
          },
          "metadata": {},
          "execution_count": 571
        }
      ]
    },
    {
      "cell_type": "code",
      "source": [
        "accuracy = results['accuracy']\n",
        "f1_macro = results['macro avg']['f1-score']\n",
        "\n",
        "print(\"Accuracy:\", accuracy)\n",
        "print(\"Macro F1:\", f1_macro)"
      ],
      "metadata": {
        "colab": {
          "base_uri": "https://localhost:8080/"
        },
        "id": "PIWdgAByNv9p",
        "outputId": "703d8c10-bf65-4f7c-f877-d87c1312a546"
      },
      "execution_count": 573,
      "outputs": [
        {
          "output_type": "stream",
          "name": "stdout",
          "text": [
            "Accuracy: 0.6859437751004016\n",
            "Macro F1: 0.6349009421470336\n"
          ]
        }
      ]
    },
    {
      "cell_type": "code",
      "source": [
        "ev_df.loc[ev_df['task'] == 'tweetstance', ['accuracy', 'f1_macro']] = [\n",
        "  round(accuracy * 100, 2),\n",
        "  round(f1_macro * 100, 2)\n",
        "]\n",
        "ev_df.to_csv('deepseek_evaluation.csv', index=False)"
      ],
      "metadata": {
        "id": "AgKRlPqTOHIi"
      },
      "execution_count": 575,
      "outputs": []
    }
  ]
}