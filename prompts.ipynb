{
  "nbformat": 4,
  "nbformat_minor": 0,
  "metadata": {
    "colab": {
      "provenance": []
    },
    "kernelspec": {
      "name": "python3",
      "display_name": "Python 3"
    },
    "language_info": {
      "name": "python"
    }
  },
  "cells": [
    {
      "cell_type": "markdown",
      "source": [
        "##Prompts"
      ],
      "metadata": {
        "id": "d3Wdh5qs06X2"
      }
    },
    {
      "cell_type": "code",
      "source": [
        "import pandas as pd\n",
        "import asyncio\n",
        "from openai import AsyncOpenAI\n",
        "from tqdm.asyncio import tqdm\n",
        "import nest_asyncio"
      ],
      "metadata": {
        "id": "xPjxgScF08Xr"
      },
      "execution_count": 25,
      "outputs": []
    },
    {
      "cell_type": "code",
      "source": [
        "async def get_answers(file, column_name, model, no_explain=True):\n",
        "    if file.endswith('.csv'):\n",
        "        df = pd.read_csv(file)\n",
        "    elif file.endswith('.xlsx'):\n",
        "        df = pd.read_excel(file)\n",
        "\n",
        "\n",
        "    client = AsyncOpenAI(\n",
        "        base_url=\"https://openrouter.ai/api/v1\",\n",
        "        api_key=\"sk-\", #Вставьте свой ключ\n",
        "    )\n",
        "\n",
        "    column_prompt = column_name + '_prompt'\n",
        "    if column_name not in df.columns:\n",
        "        df[column_name] = None\n",
        "    if column_prompt not in df.columns:\n",
        "        df[column_prompt] = None\n",
        "\n",
        "    empty_rows = df[df[column_name].isnull()]\n",
        "\n",
        "    async def process_one_row(i, prompt, semaphore):\n",
        "        async with semaphore:\n",
        "            try:\n",
        "                completion = await client.chat.completions.create(\n",
        "                    extra_headers={\n",
        "                        \"HTTP-Referer\": \"<YOUR_SITE_URL>\",\n",
        "                        \"X-Title\": \"<YOUR_SITE_NAME>\",\n",
        "                    },\n",
        "                    model=model,\n",
        "                    messages=[{\"role\": \"user\", \"content\": prompt}]\n",
        "                )\n",
        "                reply = completion.choices[0].message.content\n",
        "                return i, prompt, reply\n",
        "            except Exception as e:\n",
        "                print(f\"Ошибка в строке {i}: {e}\")\n",
        "                return i, prompt, None\n",
        "\n",
        "    async def process_all_rows(concurrency=32): #можно настроить количество одновременных промптов\n",
        "        semaphore = asyncio.Semaphore(concurrency)\n",
        "        tasks = []\n",
        "\n",
        "        for i in empty_rows.index:\n",
        "            base_prompt = df.at[i, \"prompt\"]\n",
        "            if no_explain:\n",
        "                prompt = \"Do not write any explanations. \" + base_prompt\n",
        "            else:\n",
        "                prompt = base_prompt\n",
        "            tasks.append(process_one_row(i, prompt, semaphore))\n",
        "\n",
        "        for task in tqdm(asyncio.as_completed(tasks), total=len(tasks), desc=\"Промпты\"):\n",
        "            i, prompt, reply = await task\n",
        "            df.at[i, column_name] = reply\n",
        "            df.at[i, column_prompt] = prompt\n",
        "\n",
        "            if file.endswith('.csv'):\n",
        "                df.to_csv(file, index=False)\n",
        "            elif file.endswith('.xlsx'):\n",
        "                df.to_excel(file, index=False)\n",
        "\n",
        "\n",
        "    await process_all_rows()\n"
      ],
      "metadata": {
        "id": "u_RfDnIZJJsI"
      },
      "execution_count": null,
      "outputs": []
    },
    {
      "cell_type": "markdown",
      "source": [
        "## 1.Aggression"
      ],
      "metadata": {
        "id": "QTh5pMPcJ0MK"
      }
    },
    {
      "cell_type": "code",
      "source": [
        "nest_asyncio.apply()\n",
        "\n",
        "await get_answers(\"aggression.xlsx\", \"deepseek\", \"deepseek/deepseek-chat-v3-0324\")"
      ],
      "metadata": {
        "id": "tLrUaWW-J3Pr"
      },
      "execution_count": null,
      "outputs": []
    },
    {
      "cell_type": "markdown",
      "source": [
        "## 2.Aggressionper"
      ],
      "metadata": {
        "id": "ofV7RQLlMKql"
      }
    },
    {
      "cell_type": "code",
      "source": [
        "nest_asyncio.apply()\n",
        "\n",
        "await get_answers(\"aggression.xslx\", \"deepseek\", \"deepseek/deepseek-chat-v3-0324\")"
      ],
      "metadata": {
        "id": "upsyyJj_MN1Y"
      },
      "execution_count": null,
      "outputs": []
    },
    {
      "cell_type": "markdown",
      "source": [
        "## 3.Clarinemo"
      ],
      "metadata": {
        "id": "tKcGCg4GMjRm"
      }
    },
    {
      "cell_type": "code",
      "source": [
        "nest_asyncio.apply()\n",
        "\n",
        "await get_answers(\"clarinemo.xslx\", \"deepseek\", \"deepseek/deepseek-chat-v3-0324\")"
      ],
      "metadata": {
        "id": "AxyEBMRwMlWn"
      },
      "execution_count": null,
      "outputs": []
    },
    {
      "cell_type": "markdown",
      "source": [
        "## 4.Cola"
      ],
      "metadata": {
        "id": "Kj1XvsLwMy_j"
      }
    },
    {
      "cell_type": "code",
      "source": [
        "nest_asyncio.apply()\n",
        "\n",
        "await get_answers(\"cola.xslx\", \"deepseek\", \"deepseek/deepseek-chat-v3-0324\")"
      ],
      "metadata": {
        "id": "x9_Tyzg5MyYh"
      },
      "execution_count": null,
      "outputs": []
    },
    {
      "cell_type": "markdown",
      "source": [
        "## 5.Colbert"
      ],
      "metadata": {
        "id": "q-bfz-hFM3M0"
      }
    },
    {
      "cell_type": "code",
      "source": [
        "nest_asyncio.apply()\n",
        "\n",
        "await get_answers(\"colbert.xslx\", \"deepseek\", \"deepseek/deepseek-chat-v3-0324\")"
      ],
      "metadata": {
        "id": "sxxV3kEgM684"
      },
      "execution_count": null,
      "outputs": []
    },
    {
      "cell_type": "markdown",
      "source": [
        "## 6.Goemo"
      ],
      "metadata": {
        "id": "jNL2x7WANJYD"
      }
    },
    {
      "cell_type": "code",
      "source": [
        "nest_asyncio.apply()\n",
        "\n",
        "await get_answers(\"goemo.xslx\", \"deepseek\", \"deepseek/deepseek-chat-v3-0324\")"
      ],
      "metadata": {
        "id": "FsiHahKsNI0p"
      },
      "execution_count": null,
      "outputs": []
    },
    {
      "cell_type": "markdown",
      "source": [
        "## 7.Goemoper0"
      ],
      "metadata": {
        "id": "1I1Y3r0RNTHg"
      }
    },
    {
      "cell_type": "code",
      "source": [
        "nest_asyncio.apply()\n",
        "\n",
        "await get_answers(\"goemoper0.xslx\", \"deepseek\", \"deepseek/deepseek-chat-v3-0324\")"
      ],
      "metadata": {
        "id": "oFI_zISiNeDw"
      },
      "execution_count": null,
      "outputs": []
    },
    {
      "cell_type": "markdown",
      "source": [
        "## 8.Goemoper1"
      ],
      "metadata": {
        "id": "3nzWA4HRNXsu"
      }
    },
    {
      "cell_type": "code",
      "source": [
        "nest_asyncio.apply()\n",
        "\n",
        "await get_answers(\"goemoper1.xslx\", \"deepseek\", \"deepseek/deepseek-chat-v3-0324\")"
      ],
      "metadata": {
        "id": "OTkNZOh-NiX0"
      },
      "execution_count": null,
      "outputs": []
    },
    {
      "cell_type": "markdown",
      "source": [
        "## 9.Goemoper2"
      ],
      "metadata": {
        "id": "HYPkxwKrNZRU"
      }
    },
    {
      "cell_type": "code",
      "source": [
        "nest_asyncio.apply()\n",
        "\n",
        "await get_answers(\"goemoper2.xslx\", \"deepseek\", \"deepseek/deepseek-chat-v3-0324\")"
      ],
      "metadata": {
        "id": "3wPP2cXoNkXc"
      },
      "execution_count": null,
      "outputs": []
    },
    {
      "cell_type": "markdown",
      "source": [
        "## 10.Goemoper3"
      ],
      "metadata": {
        "id": "2vn99m8zNa4K"
      }
    },
    {
      "cell_type": "code",
      "source": [
        "nest_asyncio.apply()\n",
        "\n",
        "await get_answers(\"goemoper3.xslx\", \"deepseek\", \"deepseek/deepseek-chat-v3-0324\")"
      ],
      "metadata": {
        "id": "wf05RyP-NlZ0"
      },
      "execution_count": null,
      "outputs": []
    },
    {
      "cell_type": "markdown",
      "source": [
        "## 11.MathQA"
      ],
      "metadata": {
        "id": "6Fwc9XJ0N2cN"
      }
    },
    {
      "cell_type": "code",
      "source": [
        "nest_asyncio.apply()\n",
        "\n",
        "await get_answers(\"mathqa.xslx\", \"deepseek\", \"deepseek/deepseek-chat-v3-0324\", no_explain=False)"
      ],
      "metadata": {
        "id": "Dhl17-zbN41s"
      },
      "execution_count": null,
      "outputs": []
    },
    {
      "cell_type": "code",
      "source": [
        "nest_asyncio.apply()\n",
        "\n",
        "await get_answers(\"mathqa.xslx\", \"gpt\", \"openai/gpt-4.1\", no_explain=False)"
      ],
      "metadata": {
        "id": "Q2lpNLERN_6O"
      },
      "execution_count": null,
      "outputs": []
    },
    {
      "cell_type": "markdown",
      "source": [
        "## 12. Polemo"
      ],
      "metadata": {
        "id": "UoXi_xNoPCln"
      }
    },
    {
      "cell_type": "code",
      "source": [
        "nest_asyncio.apply()\n",
        "\n",
        "await get_answers(\"polemo.xslx\", \"deepseek\", \"deepseek/deepseek-chat-v3-0324\")"
      ],
      "metadata": {
        "id": "7Telnwz4PJM0"
      },
      "execution_count": null,
      "outputs": []
    },
    {
      "cell_type": "markdown",
      "source": [
        "##13.Reading"
      ],
      "metadata": {
        "id": "i_x7MmcsPQFM"
      }
    },
    {
      "cell_type": "code",
      "source": [
        "nest_asyncio.apply()\n",
        "\n",
        "await get_answers(\"reading.xslx\", \"deepseek\", \"deepseek/deepseek-chat-v3-0324\")"
      ],
      "metadata": {
        "id": "9i2mvdOGPTNt"
      },
      "execution_count": null,
      "outputs": []
    },
    {
      "cell_type": "markdown",
      "source": [
        "##14.Sarcasm"
      ],
      "metadata": {
        "id": "ABurli59PZ7X"
      }
    },
    {
      "cell_type": "code",
      "source": [
        "nest_asyncio.apply()\n",
        "\n",
        "await get_answers(\"sarcasm.xslx\", \"deepseek\", \"deepseek/deepseek-chat-v3-0324\")"
      ],
      "metadata": {
        "id": "uEQThZDcP3Os"
      },
      "execution_count": null,
      "outputs": []
    },
    {
      "cell_type": "markdown",
      "source": [
        "##15.Spam"
      ],
      "metadata": {
        "id": "06MKLLZIQEKx"
      }
    },
    {
      "cell_type": "code",
      "source": [
        "nest_asyncio.apply()\n",
        "\n",
        "await get_answers(\"spam.xslx\", \"deepseek\", \"deepseek/deepseek-chat-v3-0324\")"
      ],
      "metadata": {
        "id": "bCRLDin8QGj4"
      },
      "execution_count": null,
      "outputs": []
    },
    {
      "cell_type": "markdown",
      "source": [
        "##16.Squad"
      ],
      "metadata": {
        "id": "ee-gQGhoQcAS"
      }
    },
    {
      "cell_type": "code",
      "source": [
        "nest_asyncio.apply()\n",
        "\n",
        "await get_answers(\"squad.xslx\", \"deepseek\", \"deepseek/deepseek-chat-v3-0324\")"
      ],
      "metadata": {
        "id": "Bhaaq7oGQgll"
      },
      "execution_count": null,
      "outputs": []
    },
    {
      "cell_type": "markdown",
      "source": [
        "##17.Textentail"
      ],
      "metadata": {
        "id": "XtYDfzNuRCvF"
      }
    },
    {
      "cell_type": "code",
      "source": [
        "nest_asyncio.apply()\n",
        "\n",
        "await get_answers(\"textentail.xslx\", \"deepseek\", \"deepseek/deepseek-chat-v3-0324\")"
      ],
      "metadata": {
        "id": "m9g9q3cSRX0k"
      },
      "execution_count": null,
      "outputs": []
    },
    {
      "cell_type": "code",
      "source": [
        "nest_asyncio.apply()\n",
        "\n",
        "await get_answers(\"textentail.xslx\", \"gpt4\", \"openai/gpt-4\")"
      ],
      "metadata": {
        "id": "9TpH1NEZQqJ4"
      },
      "execution_count": null,
      "outputs": []
    },
    {
      "cell_type": "markdown",
      "source": [
        "##18.Tweetsent"
      ],
      "metadata": {
        "id": "X_nOG5Z3RqyG"
      }
    },
    {
      "cell_type": "code",
      "source": [
        "nest_asyncio.apply()\n",
        "\n",
        "await get_answers(\"tweetsent.xslx\", \"deepseek\", \"deepseek/deepseek-chat-v3-0324\")"
      ],
      "metadata": {
        "id": "RWZsMKtiRwR_"
      },
      "execution_count": null,
      "outputs": []
    },
    {
      "cell_type": "markdown",
      "source": [
        "##19.TweetEmoji"
      ],
      "metadata": {
        "id": "2fNXOiWzR6_Y"
      }
    },
    {
      "cell_type": "code",
      "source": [
        "nest_asyncio.apply()\n",
        "\n",
        "await get_answers(\"tweetemoji.xslx\", \"deepseek\", \"deepseek/deepseek-chat-v3-0324\")"
      ],
      "metadata": {
        "id": "Uiakt5SmSAMt"
      },
      "execution_count": null,
      "outputs": []
    },
    {
      "cell_type": "markdown",
      "source": [
        "##20.TweetStance"
      ],
      "metadata": {
        "id": "e3y4A1X2SREq"
      }
    },
    {
      "cell_type": "code",
      "source": [
        "nest_asyncio.apply()\n",
        "\n",
        "await get_answers(\"tweetstance.xslx\", \"deepseek\", \"deepseek/deepseek-chat-v3-0324\")"
      ],
      "metadata": {
        "id": "gHgBd53-SeTA"
      },
      "execution_count": null,
      "outputs": []
    },
    {
      "cell_type": "markdown",
      "source": [
        "##21.Unhealthy"
      ],
      "metadata": {
        "id": "jPsd9_vISgUb"
      }
    },
    {
      "cell_type": "code",
      "source": [
        "nest_asyncio.apply()\n",
        "\n",
        "await get_answers(\"unhealthy.xslx\", \"deepseek\", \"deepseek/deepseek-chat-v3-0324\")"
      ],
      "metadata": {
        "id": "z6bP2cg_SkKz"
      },
      "execution_count": null,
      "outputs": []
    },
    {
      "cell_type": "markdown",
      "source": [
        "##22.UnhealthyPer"
      ],
      "metadata": {
        "id": "y7QAE68HSnEC"
      }
    },
    {
      "cell_type": "code",
      "source": [
        "nest_asyncio.apply()\n",
        "\n",
        "await get_answers(\"unhealthyper.xslx\", \"deepseek\", \"deepseek/deepseek-chat-v3-0324\")"
      ],
      "metadata": {
        "id": "bGEfAonoSqJW"
      },
      "execution_count": null,
      "outputs": []
    },
    {
      "cell_type": "markdown",
      "source": [
        "##23.WNLI"
      ],
      "metadata": {
        "id": "JHzWQEyJSwqz"
      }
    },
    {
      "cell_type": "code",
      "source": [
        "nest_asyncio.apply()\n",
        "\n",
        "await get_answers(\"wnli.xslx\", \"deepseek\", \"deepseek/deepseek-chat-v3-0324\")"
      ],
      "metadata": {
        "id": "3L2Aw1g5SzEh"
      },
      "execution_count": null,
      "outputs": []
    },
    {
      "cell_type": "code",
      "source": [
        "nest_asyncio.apply()\n",
        "\n",
        "await get_answers(\"wnli.xslx\", \"gpt3_5\", \"openai/gpt-3.5-turbo\")"
      ],
      "metadata": {
        "id": "5nMC42GcS_nk"
      },
      "execution_count": null,
      "outputs": []
    },
    {
      "cell_type": "code",
      "source": [
        "nest_asyncio.apply()\n",
        "\n",
        "await get_answers(\"wnli.xslx\", \"gpt4\", \"openai/gpt-4\")"
      ],
      "metadata": {
        "id": "KQNQqHNdTKpT"
      },
      "execution_count": null,
      "outputs": []
    },
    {
      "cell_type": "markdown",
      "source": [
        "##24.WordContext"
      ],
      "metadata": {
        "id": "cqocO20DTat8"
      }
    },
    {
      "cell_type": "code",
      "source": [
        "nest_asyncio.apply()\n",
        "\n",
        "await get_answers(\"wordcontext.xslx\", \"deepseek\", \"deepseek/deepseek-chat-v3-0324\")"
      ],
      "metadata": {
        "id": "a2I6cymSTaLo"
      },
      "execution_count": null,
      "outputs": []
    },
    {
      "cell_type": "markdown",
      "source": [
        "##25.WSD"
      ],
      "metadata": {
        "id": "Cy252jI5Tijz"
      }
    },
    {
      "cell_type": "code",
      "source": [
        "nest_asyncio.apply()\n",
        "\n",
        "await get_answers(\"wsd.xslx\", \"deepseek\", \"deepseek/deepseek-chat-v3-0324\")"
      ],
      "metadata": {
        "id": "yY0LhnMITkgS"
      },
      "execution_count": null,
      "outputs": []
    }
  ]
}